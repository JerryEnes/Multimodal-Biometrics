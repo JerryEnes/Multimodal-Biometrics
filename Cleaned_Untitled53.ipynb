{
 "cells": [
  {
   "cell_type": "code",
   "execution_count": null,
   "metadata": {
    "colab": {
     "base_uri": "https://localhost:8080/"
    },
    "executionInfo": {
     "elapsed": 2352117,
     "status": "ok",
     "timestamp": 1748546777462,
     "user": {
      "displayName": "jerrykarunya",
      "userId": "00961226722197498778"
     },
     "user_tz": -330
    },
    "id": "46qlRhUQRYfH",
    "outputId": "278fe075-e584-4b28-af50-95de3679ae3c"
   },
   "outputs": [
    {
     "name": "stdout",
     "output_type": "stream",
     "text": [
      "✅ Creating 492 multimodal class folders...\n"
     ]
    },
    {
     "name": "stderr",
     "output_type": "stream",
     "text": [
      "100%|██████████| 492/492 [36:06<00:00,  4.40s/it]"
     ]
    },
    {
     "name": "stdout",
     "output_type": "stream",
     "text": [
      "\n",
      "✅ Done. Multimodal dataset created at: /content/drive/MyDrive/Multimodal Biometric Authentication\n",
      "\n",
      "📁 Sample class folders created:\n",
      " - /content/drive/MyDrive/Multimodal Biometric Authentication/0001\n",
      " - /content/drive/MyDrive/Multimodal Biometric Authentication/0002\n",
      " - /content/drive/MyDrive/Multimodal Biometric Authentication/0003\n"
     ]
    },
    {
     "name": "stderr",
     "output_type": "stream",
     "text": [
      "\n"
     ]
    }
   ],
   "source": [
    "import os\n",
    "import shutil\n",
    "from tqdm import tqdm\n",
    "\n",
    "# Input paths\n",
    "iris_root = '/content/drive/MyDrive/Iris-eye preprocessed/CASIA-Iris-Thousand'\n",
    "fv_root = '/content/drive/MyDrive/preprocessed 2nd session/1st session'\n",
    "\n",
    "# Output root directory\n",
    "output_root = '/content/drive/MyDrive/Multimodal Biometric Authentication'\n",
    "os.makedirs(output_root, exist_ok=True)\n",
    "\n",
    "# Helper: Find all subfolders under iris_root that contain image files\n",
    "def get_leaf_folders_with_images(root_dir):\n",
    "    leaf_folders = []\n",
    "    for root, dirs, files in os.walk(root_dir):\n",
    "        image_files = [f for f in files if f.lower().endswith(('.jpg', '.jpeg', '.png', '.bmp'))]\n",
    "        if image_files:\n",
    "            leaf_folders.append(root)\n",
    "    return sorted(leaf_folders)\n",
    "\n",
    "# Get iris and finger vein folders\n",
    "iris_folders = get_leaf_folders_with_images(iris_root)\n",
    "fv_folders = sorted([os.path.join(fv_root, f) for f in os.listdir(fv_root)\n",
    "                     if os.path.isdir(os.path.join(fv_root, f))])\n",
    "\n",
    "# Match to the number of finger vein folders\n",
    "target_class_count = min(492, len(iris_folders), len(fv_folders))\n",
    "iris_folders = iris_folders[:target_class_count]\n",
    "fv_folders = fv_folders[:target_class_count]\n",
    "\n",
    "print(f\"✅ Creating {target_class_count} multimodal class folders...\")\n",
    "\n",
    "# Process and copy\n",
    "for idx in tqdm(range(target_class_count)):\n",
    "    class_folder = os.path.join(output_root, f\"{idx+1:04d}\")\n",
    "    iris_target = os.path.join(class_folder, 'iris-eye')\n",
    "    fv_target = os.path.join(class_folder, 'finger-vein')\n",
    "    os.makedirs(iris_target, exist_ok=True)\n",
    "    os.makedirs(fv_target, exist_ok=True)\n",
    "\n",
    "    # Copy iris images\n",
    "    iris_src = iris_folders[idx]\n",
    "    iris_imgs = [f for f in os.listdir(iris_src)\n",
    "                 if f.lower().endswith(('.jpg', '.jpeg', '.png', '.bmp'))]\n",
    "    for img in iris_imgs:\n",
    "        shutil.copy(os.path.join(iris_src, img), iris_target)\n",
    "\n",
    "    # Copy finger vein images\n",
    "    fv_src = fv_folders[idx]\n",
    "    fv_imgs = [f for f in os.listdir(fv_src)\n",
    "               if f.lower().endswith(('.jpg', '.jpeg', '.png', '.bmp'))]\n",
    "    for img in fv_imgs:\n",
    "        shutil.copy(os.path.join(fv_src, img), fv_target)\n",
    "\n",
    "print(f\"\\n✅ Done. Multimodal dataset created at: {output_root}\")\n",
    "\n",
    "# Show confirmation\n",
    "print(\"\\n📁 Sample class folders created:\")\n",
    "for i in range(min(3, target_class_count)):\n",
    "    print(\" -\", os.path.join(output_root, f\"{i+1:04d}\"))\n"
   ]
  },
  {
   "cell_type": "code",
   "execution_count": null,
   "metadata": {
    "colab": {
     "base_uri": "https://localhost:8080/"
    },
    "executionInfo": {
     "elapsed": 4369557,
     "status": "ok",
     "timestamp": 1748586015505,
     "user": {
      "displayName": "jerrykarunya",
      "userId": "00961226722197498778"
     },
     "user_tz": -330
    },
    "id": "UadJzJnXklDN",
    "outputId": "839ab8f9-27fe-48a8-940a-68205b638ec9"
   },
   "outputs": [
    {
     "name": "stdout",
     "output_type": "stream",
     "text": [
      "✅ Creating 492 multimodal class folders with 6 images per modality...\n"
     ]
    },
    {
     "name": "stderr",
     "output_type": "stream",
     "text": [
      "100%|██████████| 492/492 [1:05:14<00:00,  7.96s/it]"
     ]
    },
    {
     "name": "stdout",
     "output_type": "stream",
     "text": [
      "\n",
      "✅ Done. Multimodal dataset with 6 images per modality created at: /content/drive/MyDrive/multimodal biometric 2\n",
      "\n",
      "📁 Sample class folders created:\n",
      " - /content/drive/MyDrive/multimodal biometric 2/0001\n",
      " - /content/drive/MyDrive/multimodal biometric 2/0002\n",
      " - /content/drive/MyDrive/multimodal biometric 2/0003\n"
     ]
    },
    {
     "name": "stderr",
     "output_type": "stream",
     "text": [
      "\n"
     ]
    }
   ],
   "source": [
    "import os\n",
    "import shutil\n",
    "from tqdm import tqdm\n",
    "\n",
    "# Input paths\n",
    "iris_root = '/content/drive/MyDrive/Iris-eye preprocessed/CASIA-Iris-Thousand'\n",
    "fv_root = '/content/drive/MyDrive/preprocessed 2nd session/1st session'\n",
    "\n",
    "# Output root directory\n",
    "output_root = '/content/drive/MyDrive/multimodal biometric 2'\n",
    "os.makedirs(output_root, exist_ok=True)\n",
    "\n",
    "# Helper: Find all subfolders under iris_root that contain image files\n",
    "def get_leaf_folders_with_images(root_dir):\n",
    "    leaf_folders = []\n",
    "    for root, dirs, files in os.walk(root_dir):\n",
    "        image_files = [f for f in files if f.lower().endswith(('.jpg', '.jpeg', '.png', '.bmp'))]\n",
    "        if len(image_files) >= 6:\n",
    "            leaf_folders.append(root)\n",
    "    return sorted(leaf_folders)\n",
    "\n",
    "# Get iris and finger vein folders\n",
    "iris_folders = get_leaf_folders_with_images(iris_root)\n",
    "fv_folders = sorted([os.path.join(fv_root, f) for f in os.listdir(fv_root)\n",
    "                     if os.path.isdir(os.path.join(fv_root, f))])\n",
    "\n",
    "# Match to the number of finger vein folders\n",
    "target_class_count = min(492, len(iris_folders), len(fv_folders))\n",
    "iris_folders = iris_folders[:target_class_count]\n",
    "fv_folders = fv_folders[:target_class_count]\n",
    "\n",
    "print(f\"✅ Creating {target_class_count} multimodal class folders with 6 images per modality...\")\n",
    "\n",
    "# Process and copy\n",
    "for idx in tqdm(range(target_class_count)):\n",
    "    class_folder = os.path.join(output_root, f\"{idx+1:04d}\")\n",
    "    iris_target = os.path.join(class_folder, 'iris-eye')\n",
    "    fv_target = os.path.join(class_folder, 'finger-vein')\n",
    "    os.makedirs(iris_target, exist_ok=True)\n",
    "    os.makedirs(fv_target, exist_ok=True)\n",
    "\n",
    "    # --- Copy iris images (first 6 only) ---\n",
    "    iris_src = iris_folders[idx]\n",
    "    iris_imgs = sorted([f for f in os.listdir(iris_src)\n",
    "                        if f.lower().endswith(('.jpg', '.jpeg', '.png', '.bmp'))])[:6]\n",
    "    for img in iris_imgs:\n",
    "        shutil.copy(os.path.join(iris_src, img), iris_target)\n",
    "\n",
    "    # --- Copy finger vein images (first 6 only) ---\n",
    "    fv_src = fv_folders[idx]\n",
    "    fv_imgs = sorted([f for f in os.listdir(fv_src)\n",
    "                      if f.lower().endswith(('.jpg', '.jpeg', '.png', '.bmp'))])[:6]\n",
    "    for img in fv_imgs:\n",
    "        shutil.copy(os.path.join(fv_src, img), fv_target)\n",
    "\n",
    "print(f\"\\n✅ Done. Multimodal dataset with 6 images per modality created at: {output_root}\")\n",
    "\n",
    "# Show a few sample folders\n",
    "print(\"\\n📁 Sample class folders created:\")\n",
    "for i in range(min(3, target_class_count)):\n",
    "    print(\" -\", os.path.join(output_root, f\"{i+1:04d}\"))\n"
   ]
  },
  {
   "cell_type": "code",
   "execution_count": null,
   "metadata": {
    "colab": {
     "base_uri": "https://localhost:8080/"
    },
    "executionInfo": {
     "elapsed": 102903,
     "status": "ok",
     "timestamp": 1748598644192,
     "user": {
      "displayName": "jerrykarunya",
      "userId": "00961226722197498778"
     },
     "user_tz": -330
    },
    "id": "ynMhWoi22jkL",
    "outputId": "3ce57a55-9669-4a96-b658-be8196da6431"
   },
   "outputs": [
    {
     "name": "stdout",
     "output_type": "stream",
     "text": [
      "Requirement already satisfied: timm in /usr/local/lib/python3.11/dist-packages (1.0.15)\n",
      "Requirement already satisfied: einops in /usr/local/lib/python3.11/dist-packages (0.8.1)\n",
      "Requirement already satisfied: torch in /usr/local/lib/python3.11/dist-packages (from timm) (2.6.0+cu124)\n",
      "Requirement already satisfied: torchvision in /usr/local/lib/python3.11/dist-packages (from timm) (0.21.0+cu124)\n",
      "Requirement already satisfied: pyyaml in /usr/local/lib/python3.11/dist-packages (from timm) (6.0.2)\n",
      "Requirement already satisfied: huggingface_hub in /usr/local/lib/python3.11/dist-packages (from timm) (0.31.4)\n",
      "Requirement already satisfied: safetensors in /usr/local/lib/python3.11/dist-packages (from timm) (0.5.3)\n",
      "Requirement already satisfied: filelock in /usr/local/lib/python3.11/dist-packages (from huggingface_hub->timm) (3.18.0)\n",
      "Requirement already satisfied: fsspec>=2023.5.0 in /usr/local/lib/python3.11/dist-packages (from huggingface_hub->timm) (2025.3.2)\n",
      "Requirement already satisfied: packaging>=20.9 in /usr/local/lib/python3.11/dist-packages (from huggingface_hub->timm) (24.2)\n",
      "Requirement already satisfied: requests in /usr/local/lib/python3.11/dist-packages (from huggingface_hub->timm) (2.32.3)\n",
      "Requirement already satisfied: tqdm>=4.42.1 in /usr/local/lib/python3.11/dist-packages (from huggingface_hub->timm) (4.67.1)\n",
      "Requirement already satisfied: typing-extensions>=3.7.4.3 in /usr/local/lib/python3.11/dist-packages (from huggingface_hub->timm) (4.13.2)\n",
      "Requirement already satisfied: networkx in /usr/local/lib/python3.11/dist-packages (from torch->timm) (3.4.2)\n",
      "Requirement already satisfied: jinja2 in /usr/local/lib/python3.11/dist-packages (from torch->timm) (3.1.6)\n",
      "Collecting nvidia-cuda-nvrtc-cu12==12.4.127 (from torch->timm)\n",
      "  Downloading nvidia_cuda_nvrtc_cu12-12.4.127-py3-none-manylinux2014_x86_64.whl.metadata (1.5 kB)\n",
      "Collecting nvidia-cuda-runtime-cu12==12.4.127 (from torch->timm)\n",
      "  Downloading nvidia_cuda_runtime_cu12-12.4.127-py3-none-manylinux2014_x86_64.whl.metadata (1.5 kB)\n",
      "Collecting nvidia-cuda-cupti-cu12==12.4.127 (from torch->timm)\n",
      "  Downloading nvidia_cuda_cupti_cu12-12.4.127-py3-none-manylinux2014_x86_64.whl.metadata (1.6 kB)\n",
      "Collecting nvidia-cudnn-cu12==9.1.0.70 (from torch->timm)\n",
      "  Downloading nvidia_cudnn_cu12-9.1.0.70-py3-none-manylinux2014_x86_64.whl.metadata (1.6 kB)\n",
      "Collecting nvidia-cublas-cu12==12.4.5.8 (from torch->timm)\n",
      "  Downloading nvidia_cublas_cu12-12.4.5.8-py3-none-manylinux2014_x86_64.whl.metadata (1.5 kB)\n",
      "Collecting nvidia-cufft-cu12==11.2.1.3 (from torch->timm)\n",
      "  Downloading nvidia_cufft_cu12-11.2.1.3-py3-none-manylinux2014_x86_64.whl.metadata (1.5 kB)\n",
      "Collecting nvidia-curand-cu12==10.3.5.147 (from torch->timm)\n",
      "  Downloading nvidia_curand_cu12-10.3.5.147-py3-none-manylinux2014_x86_64.whl.metadata (1.5 kB)\n",
      "Collecting nvidia-cusolver-cu12==11.6.1.9 (from torch->timm)\n",
      "  Downloading nvidia_cusolver_cu12-11.6.1.9-py3-none-manylinux2014_x86_64.whl.metadata (1.6 kB)\n",
      "Collecting nvidia-cusparse-cu12==12.3.1.170 (from torch->timm)\n",
      "  Downloading nvidia_cusparse_cu12-12.3.1.170-py3-none-manylinux2014_x86_64.whl.metadata (1.6 kB)\n",
      "Requirement already satisfied: nvidia-cusparselt-cu12==0.6.2 in /usr/local/lib/python3.11/dist-packages (from torch->timm) (0.6.2)\n",
      "Requirement already satisfied: nvidia-nccl-cu12==2.21.5 in /usr/local/lib/python3.11/dist-packages (from torch->timm) (2.21.5)\n",
      "Requirement already satisfied: nvidia-nvtx-cu12==12.4.127 in /usr/local/lib/python3.11/dist-packages (from torch->timm) (12.4.127)\n",
      "Collecting nvidia-nvjitlink-cu12==12.4.127 (from torch->timm)\n",
      "  Downloading nvidia_nvjitlink_cu12-12.4.127-py3-none-manylinux2014_x86_64.whl.metadata (1.5 kB)\n",
      "Requirement already satisfied: triton==3.2.0 in /usr/local/lib/python3.11/dist-packages (from torch->timm) (3.2.0)\n",
      "Requirement already satisfied: sympy==1.13.1 in /usr/local/lib/python3.11/dist-packages (from torch->timm) (1.13.1)\n",
      "Requirement already satisfied: mpmath<1.4,>=1.1.0 in /usr/local/lib/python3.11/dist-packages (from sympy==1.13.1->torch->timm) (1.3.0)\n",
      "Requirement already satisfied: numpy in /usr/local/lib/python3.11/dist-packages (from torchvision->timm) (2.0.2)\n",
      "Requirement already satisfied: pillow!=8.3.*,>=5.3.0 in /usr/local/lib/python3.11/dist-packages (from torchvision->timm) (11.2.1)\n",
      "Requirement already satisfied: MarkupSafe>=2.0 in /usr/local/lib/python3.11/dist-packages (from jinja2->torch->timm) (3.0.2)\n",
      "Requirement already satisfied: charset-normalizer<4,>=2 in /usr/local/lib/python3.11/dist-packages (from requests->huggingface_hub->timm) (3.4.2)\n",
      "Requirement already satisfied: idna<4,>=2.5 in /usr/local/lib/python3.11/dist-packages (from requests->huggingface_hub->timm) (3.10)\n",
      "Requirement already satisfied: urllib3<3,>=1.21.1 in /usr/local/lib/python3.11/dist-packages (from requests->huggingface_hub->timm) (2.4.0)\n",
      "Requirement already satisfied: certifi>=2017.4.17 in /usr/local/lib/python3.11/dist-packages (from requests->huggingface_hub->timm) (2025.4.26)\n",
      "Downloading nvidia_cublas_cu12-12.4.5.8-py3-none-manylinux2014_x86_64.whl (363.4 MB)\n",
      "\u001b[2K   \u001b[90m━━━━━━━━━━━━━━━━━━━━━━━━━━━━━━━━━━━━━━━━\u001b[0m \u001b[32m363.4/363.4 MB\u001b[0m \u001b[31m3.7 MB/s\u001b[0m eta \u001b[36m0:00:00\u001b[0m\n",
      "\u001b[?25hDownloading nvidia_cuda_cupti_cu12-12.4.127-py3-none-manylinux2014_x86_64.whl (13.8 MB)\n",
      "\u001b[2K   \u001b[90m━━━━━━━━━━━━━━━━━━━━━━━━━━━━━━━━━━━━━━━━\u001b[0m \u001b[32m13.8/13.8 MB\u001b[0m \u001b[31m106.3 MB/s\u001b[0m eta \u001b[36m0:00:00\u001b[0m\n",
      "\u001b[?25hDownloading nvidia_cuda_nvrtc_cu12-12.4.127-py3-none-manylinux2014_x86_64.whl (24.6 MB)\n",
      "\u001b[2K   \u001b[90m━━━━━━━━━━━━━━━━━━━━━━━━━━━━━━━━━━━━━━━━\u001b[0m \u001b[32m24.6/24.6 MB\u001b[0m \u001b[31m86.2 MB/s\u001b[0m eta \u001b[36m0:00:00\u001b[0m\n",
      "\u001b[?25hDownloading nvidia_cuda_runtime_cu12-12.4.127-py3-none-manylinux2014_x86_64.whl (883 kB)\n",
      "\u001b[2K   \u001b[90m━━━━━━━━━━━━━━━━━━━━━━━━━━━━━━━━━━━━━━━━\u001b[0m \u001b[32m883.7/883.7 kB\u001b[0m \u001b[31m51.4 MB/s\u001b[0m eta \u001b[36m0:00:00\u001b[0m\n",
      "\u001b[?25hDownloading nvidia_cudnn_cu12-9.1.0.70-py3-none-manylinux2014_x86_64.whl (664.8 MB)\n",
      "\u001b[2K   \u001b[90m━━━━━━━━━━━━━━━━━━━━━━━━━━━━━━━━━━━━━━━━\u001b[0m \u001b[32m664.8/664.8 MB\u001b[0m \u001b[31m2.8 MB/s\u001b[0m eta \u001b[36m0:00:00\u001b[0m\n",
      "\u001b[?25hDownloading nvidia_cufft_cu12-11.2.1.3-py3-none-manylinux2014_x86_64.whl (211.5 MB)\n",
      "\u001b[2K   \u001b[90m━━━━━━━━━━━━━━━━━━━━━━━━━━━━━━━━━━━━━━━━\u001b[0m \u001b[32m211.5/211.5 MB\u001b[0m \u001b[31m6.0 MB/s\u001b[0m eta \u001b[36m0:00:00\u001b[0m\n",
      "\u001b[?25hDownloading nvidia_curand_cu12-10.3.5.147-py3-none-manylinux2014_x86_64.whl (56.3 MB)\n",
      "\u001b[2K   \u001b[90m━━━━━━━━━━━━━━━━━━━━━━━━━━━━━━━━━━━━━━━━\u001b[0m \u001b[32m56.3/56.3 MB\u001b[0m \u001b[31m18.4 MB/s\u001b[0m eta \u001b[36m0:00:00\u001b[0m\n",
      "\u001b[?25hDownloading nvidia_cusolver_cu12-11.6.1.9-py3-none-manylinux2014_x86_64.whl (127.9 MB)\n",
      "\u001b[2K   \u001b[90m━━━━━━━━━━━━━━━━━━━━━━━━━━━━━━━━━━━━━━━━\u001b[0m \u001b[32m127.9/127.9 MB\u001b[0m \u001b[31m7.7 MB/s\u001b[0m eta \u001b[36m0:00:00\u001b[0m\n",
      "\u001b[?25hDownloading nvidia_cusparse_cu12-12.3.1.170-py3-none-manylinux2014_x86_64.whl (207.5 MB)\n",
      "\u001b[2K   \u001b[90m━━━━━━━━━━━━━━━━━━━━━━━━━━━━━━━━━━━━━━━━\u001b[0m \u001b[32m207.5/207.5 MB\u001b[0m \u001b[31m5.9 MB/s\u001b[0m eta \u001b[36m0:00:00\u001b[0m\n",
      "\u001b[?25hDownloading nvidia_nvjitlink_cu12-12.4.127-py3-none-manylinux2014_x86_64.whl (21.1 MB)\n",
      "\u001b[2K   \u001b[90m━━━━━━━━━━━━━━━━━━━━━━━━━━━━━━━━━━━━━━━━\u001b[0m \u001b[32m21.1/21.1 MB\u001b[0m \u001b[31m41.4 MB/s\u001b[0m eta \u001b[36m0:00:00\u001b[0m\n",
      "\u001b[?25hInstalling collected packages: nvidia-nvjitlink-cu12, nvidia-curand-cu12, nvidia-cufft-cu12, nvidia-cuda-runtime-cu12, nvidia-cuda-nvrtc-cu12, nvidia-cuda-cupti-cu12, nvidia-cublas-cu12, nvidia-cusparse-cu12, nvidia-cudnn-cu12, nvidia-cusolver-cu12\n",
      "  Attempting uninstall: nvidia-nvjitlink-cu12\n",
      "    Found existing installation: nvidia-nvjitlink-cu12 12.5.82\n",
      "    Uninstalling nvidia-nvjitlink-cu12-12.5.82:\n",
      "      Successfully uninstalled nvidia-nvjitlink-cu12-12.5.82\n",
      "  Attempting uninstall: nvidia-curand-cu12\n",
      "    Found existing installation: nvidia-curand-cu12 10.3.6.82\n",
      "    Uninstalling nvidia-curand-cu12-10.3.6.82:\n",
      "      Successfully uninstalled nvidia-curand-cu12-10.3.6.82\n",
      "  Attempting uninstall: nvidia-cufft-cu12\n",
      "    Found existing installation: nvidia-cufft-cu12 11.2.3.61\n",
      "    Uninstalling nvidia-cufft-cu12-11.2.3.61:\n",
      "      Successfully uninstalled nvidia-cufft-cu12-11.2.3.61\n",
      "  Attempting uninstall: nvidia-cuda-runtime-cu12\n",
      "    Found existing installation: nvidia-cuda-runtime-cu12 12.5.82\n",
      "    Uninstalling nvidia-cuda-runtime-cu12-12.5.82:\n",
      "      Successfully uninstalled nvidia-cuda-runtime-cu12-12.5.82\n",
      "  Attempting uninstall: nvidia-cuda-nvrtc-cu12\n",
      "    Found existing installation: nvidia-cuda-nvrtc-cu12 12.5.82\n",
      "    Uninstalling nvidia-cuda-nvrtc-cu12-12.5.82:\n",
      "      Successfully uninstalled nvidia-cuda-nvrtc-cu12-12.5.82\n",
      "  Attempting uninstall: nvidia-cuda-cupti-cu12\n",
      "    Found existing installation: nvidia-cuda-cupti-cu12 12.5.82\n",
      "    Uninstalling nvidia-cuda-cupti-cu12-12.5.82:\n",
      "      Successfully uninstalled nvidia-cuda-cupti-cu12-12.5.82\n",
      "  Attempting uninstall: nvidia-cublas-cu12\n",
      "    Found existing installation: nvidia-cublas-cu12 12.5.3.2\n",
      "    Uninstalling nvidia-cublas-cu12-12.5.3.2:\n",
      "      Successfully uninstalled nvidia-cublas-cu12-12.5.3.2\n",
      "  Attempting uninstall: nvidia-cusparse-cu12\n",
      "    Found existing installation: nvidia-cusparse-cu12 12.5.1.3\n",
      "    Uninstalling nvidia-cusparse-cu12-12.5.1.3:\n",
      "      Successfully uninstalled nvidia-cusparse-cu12-12.5.1.3\n",
      "  Attempting uninstall: nvidia-cudnn-cu12\n",
      "    Found existing installation: nvidia-cudnn-cu12 9.3.0.75\n",
      "    Uninstalling nvidia-cudnn-cu12-9.3.0.75:\n",
      "      Successfully uninstalled nvidia-cudnn-cu12-9.3.0.75\n",
      "  Attempting uninstall: nvidia-cusolver-cu12\n",
      "    Found existing installation: nvidia-cusolver-cu12 11.6.3.83\n",
      "    Uninstalling nvidia-cusolver-cu12-11.6.3.83:\n",
      "      Successfully uninstalled nvidia-cusolver-cu12-11.6.3.83\n",
      "Successfully installed nvidia-cublas-cu12-12.4.5.8 nvidia-cuda-cupti-cu12-12.4.127 nvidia-cuda-nvrtc-cu12-12.4.127 nvidia-cuda-runtime-cu12-12.4.127 nvidia-cudnn-cu12-9.1.0.70 nvidia-cufft-cu12-11.2.1.3 nvidia-curand-cu12-10.3.5.147 nvidia-cusolver-cu12-11.6.1.9 nvidia-cusparse-cu12-12.3.1.170 nvidia-nvjitlink-cu12-12.4.127\n"
     ]
    }
   ],
   "source": [
    "!pip install timm einops\n"
   ]
  },
  {
   "cell_type": "code",
   "execution_count": null,
   "metadata": {
    "colab": {
     "base_uri": "https://localhost:8080/"
    },
    "executionInfo": {
     "elapsed": 32018,
     "status": "ok",
     "timestamp": 1748656231500,
     "user": {
      "displayName": "jerrykarunya",
      "userId": "00961226722197498778"
     },
     "user_tz": -330
    },
    "id": "38vhlIFjB2n3",
    "outputId": "b66c61ee-a1da-4a0a-e230-8d6293b46d28"
   },
   "outputs": [
    {
     "name": "stdout",
     "output_type": "stream",
     "text": [
      "Drive already mounted at /content/drive; to attempt to forcibly remount, call drive.mount(\"/content/drive\", force_remount=True).\n"
     ]
    }
   ],
   "source": [
    "from google.colab import drive\n",
    "drive.mount('/content/drive')"
   ]
  },
  {
   "cell_type": "code",
   "execution_count": null,
   "metadata": {
    "colab": {
     "base_uri": "https://localhost:8080/"
    },
    "executionInfo": {
     "elapsed": 1724297,
     "status": "ok",
     "timestamp": 1748658035787,
     "user": {
      "displayName": "jerrykarunya",
      "userId": "00961226722197498778"
     },
     "user_tz": -330
    },
    "id": "9VVtBQrJCAIU",
    "outputId": "383ce446-56d3-4910-acf3-0825bd283f68"
   },
   "outputs": [
    {
     "name": "stderr",
     "output_type": "stream",
     "text": [
      "100%|██████████| 492/492 [28:43<00:00,  3.50s/it]"
     ]
    },
    {
     "name": "stdout",
     "output_type": "stream",
     "text": [
      "✅ All images preprocessed and saved to: /content/drive/MyDrive/Multimodal Biometric 3\n"
     ]
    },
    {
     "name": "stderr",
     "output_type": "stream",
     "text": [
      "\n"
     ]
    }
   ],
   "source": [
    "import cv2\n",
    "import os\n",
    "from PIL import Image\n",
    "from tqdm import tqdm\n",
    "import numpy as np\n",
    "\n",
    "# Paths\n",
    "input_root = '/content/drive/MyDrive/multimodal biometric 2'  # original dataset\n",
    "output_root = '/content/drive/MyDrive/Multimodal Biometric 3'  # destination for preprocessed data\n",
    "target_size = (224, 224)\n",
    "\n",
    "def apply_clahe(image):\n",
    "    # Convert RGB to LAB and apply CLAHE to L channel\n",
    "    lab = cv2.cvtColor(image, cv2.COLOR_RGB2LAB)\n",
    "    l, a, b = cv2.split(lab)\n",
    "    clahe = cv2.createCLAHE(clipLimit=2.0, tileGridSize=(8, 8))\n",
    "    cl = clahe.apply(l)\n",
    "    limg = cv2.merge((cl, a, b))\n",
    "    return cv2.cvtColor(limg, cv2.COLOR_LAB2RGB)\n",
    "\n",
    "def normalize_image(image):\n",
    "    return cv2.normalize(image, None, 0, 255, cv2.NORM_MINMAX)\n",
    "\n",
    "def preprocess_and_save_image(input_path, output_path):\n",
    "    image = cv2.imread(input_path)\n",
    "    if image is None:\n",
    "        return\n",
    "    image = cv2.cvtColor(image, cv2.COLOR_BGR2RGB)\n",
    "    image = cv2.resize(image, target_size)\n",
    "    image = apply_clahe(image)\n",
    "    image = normalize_image(image)\n",
    "    image = Image.fromarray(image)\n",
    "    os.makedirs(os.path.dirname(output_path), exist_ok=True)\n",
    "    image.save(output_path)\n",
    "\n",
    "# Main processing\n",
    "for person_folder in tqdm(sorted(os.listdir(input_root))):\n",
    "    person_path = os.path.join(input_root, person_folder)\n",
    "    if not os.path.isdir(person_path):\n",
    "        continue\n",
    "\n",
    "    for modality in ['iris-eye', 'finger-vein']:\n",
    "        modality_path = os.path.join(person_path, modality)\n",
    "        if not os.path.isdir(modality_path):\n",
    "            continue\n",
    "\n",
    "        for img_file in sorted(os.listdir(modality_path)):\n",
    "            if img_file.lower().endswith(('.png', '.jpg', '.jpeg', '.bmp')):\n",
    "                input_img_path = os.path.join(modality_path, img_file)\n",
    "                output_img_path = os.path.join(output_root, person_folder, modality, img_file)\n",
    "                preprocess_and_save_image(input_img_path, output_img_path)\n",
    "\n",
    "print(\"✅ All images preprocessed and saved to:\", output_root)\n"
   ]
  },
  {
   "cell_type": "code",
   "execution_count": null,
   "metadata": {
    "id": "UhQ9Qzd9FDQg"
   },
   "outputs": [],
   "source": [
    "import os\n",
    "import torch\n",
    "import torch.nn as nn\n",
    "from torchvision import transforms, models\n",
    "from transformers import ViTModel, ViTImageProcessor\n",
    "from torch.utils.data import Dataset, DataLoader, random_split\n",
    "from PIL import Image\n",
    "from tqdm import tqdm\n",
    "import random\n",
    "\n",
    "# Configuration\n",
    "IMG_SIZE = 224\n",
    "BATCH_SIZE = 32\n",
    "EPOCHS = 20\n",
    "SEED = 42\n",
    "DATASET_PATH = '/content/drive/MyDrive/Multimodal Biometric 3'  # change as needed\n",
    "\n",
    "torch.manual_seed(SEED)\n",
    "random.seed(SEED)\n",
    "\n",
    "# Transforms\n",
    "normalize = transforms.Normalize(mean=[0.485, 0.456, 0.406],\n",
    "                                 std=[0.229, 0.224, 0.225])\n",
    "\n",
    "transform_common = transforms.Compose([\n",
    "    transforms.Resize((IMG_SIZE, IMG_SIZE)),\n",
    "    transforms.RandomHorizontalFlip(),\n",
    "    transforms.RandomRotation(10),\n",
    "    transforms.ColorJitter(brightness=0.2, contrast=0.2, saturation=0.2, hue=0.1),\n",
    "    transforms.ToTensor(),\n",
    "    normalize\n",
    "])\n",
    "\n",
    "\n",
    "# ViT image processor\n",
    "image_processor = ViTImageProcessor.from_pretrained(\n",
    "    \"google/vit-base-patch16-224-in21k\", use_fast=True\n",
    ")\n",
    "\n",
    "# Dataset loader\n",
    "class BiometricDataset(Dataset):\n",
    "    def __init__(self, root_dir, transform=None):\n",
    "        self.root_dir = root_dir\n",
    "        self.transform = transform\n",
    "        self.samples = []\n",
    "        self.class_to_idx = {}\n",
    "\n",
    "        classes = sorted(os.listdir(root_dir))\n",
    "        for idx, class_name in enumerate(classes):\n",
    "            self.class_to_idx[class_name] = idx\n",
    "            class_path = os.path.join(root_dir, class_name)\n",
    "            iris_dir = os.path.join(class_path, 'iris-eye')\n",
    "            vein_dir = os.path.join(class_path, 'finger-vein')\n",
    "            if not os.path.exists(iris_dir) or not os.path.exists(vein_dir):\n",
    "                continue\n",
    "            iris_imgs = os.listdir(iris_dir)\n",
    "            vein_imgs = os.listdir(vein_dir)\n",
    "            min_len = min(len(iris_imgs), len(vein_imgs))\n",
    "            for i in range(min_len):\n",
    "                self.samples.append({\n",
    "                    'iris': os.path.join(iris_dir, iris_imgs[i]),\n",
    "                    'vein': os.path.join(vein_dir, vein_imgs[i]),\n",
    "                    'label': idx\n",
    "                })\n",
    "\n",
    "    def __len__(self):\n",
    "        return len(self.samples)\n",
    "\n",
    "    def __getitem__(self, idx):\n",
    "        sample = self.samples[idx]\n",
    "        iris = Image.open(sample['iris']).convert('RGB')\n",
    "        vein = Image.open(sample['vein']).convert('RGB')\n",
    "\n",
    "        if self.transform:\n",
    "            iris = self.transform(iris)\n",
    "            vein = self.transform(vein)\n",
    "\n",
    "        return iris, vein, sample['label']\n",
    "\n",
    "# Load dataset\n",
    "dataset = BiometricDataset(DATASET_PATH, transform=transform_common)\n",
    "if len(dataset) == 0:\n",
    "    raise ValueError(\"Dataset is empty! Check your DATASET_PATH and folder structure.\")\n",
    "train_size = int(0.8 * len(dataset))\n",
    "val_size = len(dataset) - train_size\n",
    "train_set, val_set = random_split(dataset, [train_size, val_size])\n",
    "train_loader = DataLoader(train_set, batch_size=BATCH_SIZE, shuffle=True)\n",
    "val_loader = DataLoader(val_set, batch_size=BATCH_SIZE, shuffle=False)\n",
    "\n",
    "# Define multimodal model\n",
    "class MultimodalFusionNet(nn.Module):\n",
    "    def __init__(self, num_classes):\n",
    "        super(MultimodalFusionNet, self).__init__()\n",
    "\n",
    "        self.iris_model = models.mobilenet_v2(pretrained=True)\n",
    "        for param in self.iris_model.features.parameters():\n",
    "            param.requires_grad = False\n",
    "        self.iris_model.classifier = nn.Identity()\n",
    "\n",
    "        self.vein_model = ViTModel.from_pretrained(\"google/vit-base-patch16-224-in21k\")\n",
    "        for param in self.vein_model.parameters():\n",
    "            param.requires_grad = False\n",
    "\n",
    "        self.fusion = nn.Sequential(\n",
    "            nn.Linear(1280 + 768, 512),\n",
    "            nn.ReLU(),\n",
    "            nn.BatchNorm1d(512),\n",
    "            nn.Dropout(0.4),\n",
    "            nn.Linear(512, num_classes)\n",
    "        )\n",
    "\n",
    "\n",
    "    def forward(self, iris_img, vein_img):\n",
    "        iris_feat = self.iris_model(iris_img)\n",
    "        vein_feat = self.vein_model(pixel_values=vein_img).last_hidden_state[:, 0, :]\n",
    "        fused = torch.cat((iris_feat, vein_feat), dim=1)\n",
    "        return self.fusion(fused)\n",
    "\n",
    "# Accuracy function\n",
    "def accuracy(preds, labels):\n",
    "    return (preds.argmax(dim=1) == labels).float().mean().item()\n",
    "\n",
    "# Training function\n",
    "def train_model(model, train_loader, val_loader, device, epochs):\n",
    "    model.to(device)\n",
    "    criterion = nn.CrossEntropyLoss()\n",
    "    optimizer = torch.optim.Adam(model.parameters(), lr=1e-4)\n",
    "\n",
    "    for epoch in range(epochs):\n",
    "        model.train()\n",
    "        total_train_acc = 0\n",
    "        for iris, vein, labels in tqdm(train_loader, desc=f\"Epoch {epoch+1}/{epochs}\"):\n",
    "            iris, vein, labels = iris.to(device), vein.to(device), labels.to(device)\n",
    "            optimizer.zero_grad()\n",
    "            outputs = model(iris, vein)\n",
    "            loss = criterion(outputs, labels)\n",
    "            loss.backward()\n",
    "            optimizer.step()\n",
    "            total_train_acc += accuracy(outputs, labels)\n",
    "\n",
    "        avg_train_acc = total_train_acc / len(train_loader)\n",
    "\n",
    "        model.eval()\n",
    "        total_val_acc = 0\n",
    "        with torch.no_grad():\n",
    "            for iris, vein, labels in val_loader:\n",
    "                iris, vein, labels = iris.to(device), vein.to(device), labels.to(device)\n",
    "                outputs = model(iris, vein)\n",
    "                total_val_acc += accuracy(outputs, labels)\n",
    "\n",
    "        avg_val_acc = total_val_acc / len(val_loader)\n",
    "        print(f\"Epoch {epoch+1} Train Acc: {avg_train_acc:.4f}, Val Acc: {avg_val_acc:.4f}\")\n",
    "\n",
    "# Run training\n",
    "device = torch.device(\"cuda\" if torch.cuda.is_available() else \"cpu\")\n",
    "model = MultimodalFusionNet(num_classes=len(dataset.class_to_idx))\n",
    "train_model(model, train_loader, val_loader, device, epochs=EPOCHS)\n"
   ]
  },
  {
   "cell_type": "code",
   "execution_count": null,
   "metadata": {
    "id": "1SL51WcJaFU4"
   },
   "outputs": [],
   "source": [
    "import os\n",
    "import torch\n",
    "import torch.nn as nn\n",
    "from torchvision import transforms, models\n",
    "from transformers import ViTModel, ViTImageProcessor\n",
    "from torch.utils.data import Dataset, DataLoader, random_split\n",
    "from PIL import Image\n",
    "from tqdm import tqdm\n",
    "import random\n",
    "\n",
    "# Configuration\n",
    "IMG_SIZE = 224\n",
    "BATCH_SIZE = 32\n",
    "EPOCHS = 50\n",
    "SEED = 42\n",
    "PATIENCE = 5\n",
    "DATASET_PATH = '/content/drive/MyDrive/Multimodal Biometric 3'\n",
    "\n",
    "torch.manual_seed(SEED)\n",
    "random.seed(SEED)\n",
    "\n",
    "# Transforms with augmentation\n",
    "normalize = transforms.Normalize(mean=[0.485, 0.456, 0.406],\n",
    "                                 std=[0.229, 0.224, 0.225])\n",
    "\n",
    "transform_common = transforms.Compose([\n",
    "    transforms.Resize((IMG_SIZE, IMG_SIZE)),\n",
    "    transforms.RandomHorizontalFlip(),\n",
    "    transforms.RandomRotation(10),\n",
    "    transforms.ColorJitter(brightness=0.2, contrast=0.2, saturation=0.2, hue=0.1),\n",
    "    transforms.ToTensor(),\n",
    "    normalize\n",
    "])\n",
    "\n",
    "# ViT image processor\n",
    "image_processor = ViTImageProcessor.from_pretrained(\n",
    "    \"google/vit-base-patch16-224-in21k\", use_fast=True\n",
    ")\n",
    "\n",
    "# Dataset loader\n",
    "class BiometricDataset(Dataset):\n",
    "    def __init__(self, root_dir, transform=None):\n",
    "        self.root_dir = root_dir\n",
    "        self.transform = transform\n",
    "        self.samples = []\n",
    "        self.class_to_idx = {}\n",
    "\n",
    "        classes = sorted(os.listdir(root_dir))\n",
    "        for idx, class_name in enumerate(classes):\n",
    "            self.class_to_idx[class_name] = idx\n",
    "            class_path = os.path.join(root_dir, class_name)\n",
    "            iris_dir = os.path.join(class_path, 'iris-eye')\n",
    "            vein_dir = os.path.join(class_path, 'finger-vein')\n",
    "            if not os.path.exists(iris_dir) or not os.path.exists(vein_dir):\n",
    "                continue\n",
    "            iris_imgs = os.listdir(iris_dir)\n",
    "            vein_imgs = os.listdir(vein_dir)\n",
    "            min_len = min(len(iris_imgs), len(vein_imgs))\n",
    "            for i in range(min_len):\n",
    "                self.samples.append({\n",
    "                    'iris': os.path.join(iris_dir, iris_imgs[i]),\n",
    "                    'vein': os.path.join(vein_dir, vein_imgs[i]),\n",
    "                    'label': idx\n",
    "                })\n",
    "\n",
    "    def __len__(self):\n",
    "        return len(self.samples)\n",
    "\n",
    "    def __getitem__(self, idx):\n",
    "        sample = self.samples[idx]\n",
    "        iris = Image.open(sample['iris']).convert('RGB')\n",
    "        vein = Image.open(sample['vein']).convert('RGB')\n",
    "\n",
    "        if self.transform:\n",
    "            iris = self.transform(iris)\n",
    "            vein = self.transform(vein)\n",
    "\n",
    "        return iris, vein, sample['label']\n",
    "\n",
    "# Load dataset\n",
    "dataset = BiometricDataset(DATASET_PATH, transform=transform_common)\n",
    "if len(dataset) == 0:\n",
    "    raise ValueError(\"Dataset is empty! Check your DATASET_PATH and folder structure.\")\n",
    "\n",
    "train_size = int(0.8 * len(dataset))\n",
    "val_size = len(dataset) - train_size\n",
    "train_set, val_set = random_split(dataset, [train_size, val_size])\n",
    "train_loader = DataLoader(train_set, batch_size=BATCH_SIZE, shuffle=True)\n",
    "val_loader = DataLoader(val_set, batch_size=BATCH_SIZE, shuffle=False)\n",
    "\n",
    "# Define multimodal model\n",
    "class MultimodalFusionNet(nn.Module):\n",
    "    def __init__(self, num_classes):\n",
    "        super(MultimodalFusionNet, self).__init__()\n",
    "\n",
    "        self.iris_model = models.mobilenet_v2(pretrained=True)\n",
    "        for param in self.iris_model.features.parameters():\n",
    "            param.requires_grad = False\n",
    "        self.iris_model.classifier = nn.Identity()\n",
    "\n",
    "        self.vein_model = ViTModel.from_pretrained(\"google/vit-base-patch16-224-in21k\")\n",
    "        for param in self.vein_model.parameters():\n",
    "            param.requires_grad = False\n",
    "\n",
    "        self.fusion = nn.Sequential(\n",
    "            nn.Linear(1280 + 768, 512),\n",
    "            nn.ReLU(),\n",
    "            nn.BatchNorm1d(512),\n",
    "            nn.Dropout(0.4),\n",
    "            nn.Linear(512, num_classes)\n",
    "        )\n",
    "\n",
    "    def forward(self, iris_img, vein_img):\n",
    "        iris_feat = self.iris_model(iris_img)\n",
    "        vein_feat = self.vein_model(pixel_values=vein_img).last_hidden_state[:, 0, :]\n",
    "        fused = torch.cat((iris_feat, vein_feat), dim=1)\n",
    "        return self.fusion(fused)\n",
    "\n",
    "# Accuracy function\n",
    "def accuracy(preds, labels):\n",
    "    return (preds.argmax(dim=1) == labels).float().mean().item()\n",
    "\n",
    "# Training function with early stopping and scheduler\n",
    "def train_model(model, train_loader, val_loader, device, epochs, patience):\n",
    "    model.to(device)\n",
    "    criterion = nn.CrossEntropyLoss()\n",
    "    optimizer = torch.optim.Adam(model.parameters(), lr=1e-4)\n",
    "    scheduler = torch.optim.lr_scheduler.ReduceLROnPlateau(optimizer, mode='max', factor=0.5, patience=2)\n",
    "\n",
    "    best_val_acc = 0\n",
    "    patience_counter = 0\n",
    "\n",
    "    for epoch in range(epochs):\n",
    "        model.train()\n",
    "        total_train_acc = 0\n",
    "        for iris, vein, labels in tqdm(train_loader, desc=f\"Epoch {epoch+1}/{epochs}\"):\n",
    "            iris, vein, labels = iris.to(device), vein.to(device), labels.to(device)\n",
    "            optimizer.zero_grad()\n",
    "            outputs = model(iris, vein)\n",
    "            loss = criterion(outputs, labels)\n",
    "            loss.backward()\n",
    "            optimizer.step()\n",
    "            total_train_acc += accuracy(outputs, labels)\n",
    "\n",
    "        avg_train_acc = total_train_acc / len(train_loader)\n",
    "\n",
    "        model.eval()\n",
    "        total_val_acc = 0\n",
    "        with torch.no_grad():\n",
    "            for iris, vein, labels in val_loader:\n",
    "                iris, vein, labels = iris.to(device), vein.to(device), labels.to(device)\n",
    "                outputs = model(iris, vein)\n",
    "                total_val_acc += accuracy(outputs, labels)\n",
    "\n",
    "        avg_val_acc = total_val_acc / len(val_loader)\n",
    "        scheduler.step(avg_val_acc)\n",
    "\n",
    "        print(f\"Epoch {epoch+1} - Train Acc: {avg_train_acc:.4f}, Val Acc: {avg_val_acc:.4f}\")\n",
    "\n",
    "        if avg_val_acc > best_val_acc:\n",
    "            best_val_acc = avg_val_acc\n",
    "            patience_counter = 0\n",
    "            torch.save(model.state_dict(), 'best_model.pt')\n",
    "            print(\"✅ New best model saved.\")\n",
    "        else:\n",
    "            patience_counter += 1\n",
    "            if patience_counter >= patience:\n",
    "                print(\"🛑 Early stopping triggered.\")\n",
    "                break\n",
    "\n",
    "# Run training\n",
    "device = torch.device(\"cuda\" if torch.cuda.is_available() else \"cpu\")\n",
    "model = MultimodalFusionNet(num_classes=len(dataset.class_to_idx))\n",
    "train_model(model, train_loader, val_loader, device, epochs=EPOCHS, patience=PATIENCE)\n",
    "\n",
    "# Load best model for final evaluation or inference\n",
    "model.load_state_dict(torch.load('best_model.pt'))\n",
    "model.eval()\n"
   ]
  },
  {
   "cell_type": "code",
   "execution_count": null,
   "metadata": {
    "colab": {
     "base_uri": "https://localhost:8080/"
    },
    "id": "uORIbbHLD3B7",
    "outputId": "805c0478-a304-4c86-a338-48c49a2e9f29"
   },
   "outputs": [
    {
     "name": "stderr",
     "output_type": "stream",
     "text": [
      "/usr/local/lib/python3.11/dist-packages/torchvision/models/_utils.py:208: UserWarning: The parameter 'pretrained' is deprecated since 0.13 and may be removed in the future, please use 'weights' instead.\n",
      "  warnings.warn(\n",
      "/usr/local/lib/python3.11/dist-packages/torchvision/models/_utils.py:223: UserWarning: Arguments other than a weight enum or `None` for 'weights' are deprecated since 0.13 and may be removed in the future. The current behavior is equivalent to passing `weights=MobileNet_V2_Weights.IMAGENET1K_V1`. You can also use `weights=MobileNet_V2_Weights.DEFAULT` to get the most up-to-date weights.\n",
      "  warnings.warn(msg)\n",
      "Epoch 1/50: 100%|██████████| 148/148 [1:27:09<00:00, 35.33s/it]\n"
     ]
    },
    {
     "name": "stdout",
     "output_type": "stream",
     "text": [
      "Epoch 1 - Train Acc: 0.0059, Val Acc: 0.0017\n",
      "✅ New best model saved.\n"
     ]
    },
    {
     "name": "stderr",
     "output_type": "stream",
     "text": [
      "Epoch 2/50:  31%|███       | 46/148 [27:05<59:50, 35.20s/it]  "
     ]
    }
   ],
   "source": [
    "import os\n",
    "import torch\n",
    "import torch.nn as nn\n",
    "import torch.nn.functional as F\n",
    "from torchvision import transforms, models\n",
    "from transformers import ViTModel, ViTImageProcessor\n",
    "from torch.utils.data import Dataset, DataLoader, random_split\n",
    "from PIL import Image\n",
    "from tqdm import tqdm\n",
    "import random\n",
    "\n",
    "# Configuration\n",
    "IMG_SIZE = 224\n",
    "BATCH_SIZE = 16\n",
    "EPOCHS = 50\n",
    "SEED = 42\n",
    "PATIENCE = 5\n",
    "DATASET_PATH = '/content/drive/MyDrive/Multimodal Biometric 3'\n",
    "\n",
    "torch.manual_seed(SEED)\n",
    "random.seed(SEED)\n",
    "\n",
    "def get_transforms():\n",
    "    normalize = transforms.Normalize(mean=[0.485, 0.456, 0.406],\n",
    "                                     std=[0.229, 0.224, 0.225])\n",
    "    return transforms.Compose([\n",
    "        transforms.Resize((IMG_SIZE, IMG_SIZE)),\n",
    "        transforms.RandomHorizontalFlip(),\n",
    "        transforms.RandomRotation(10),\n",
    "        transforms.ColorJitter(brightness=0.2, contrast=0.2, saturation=0.2, hue=0.1),\n",
    "        transforms.ToTensor(),\n",
    "        normalize\n",
    "    ])\n",
    "\n",
    "# Dataset loader\n",
    "class BiometricDataset(Dataset):\n",
    "    def __init__(self, root_dir, transform=None):\n",
    "        self.root_dir = root_dir\n",
    "        self.transform = transform\n",
    "        self.samples = []\n",
    "        self.class_to_idx = {}\n",
    "\n",
    "        classes = sorted(os.listdir(root_dir))\n",
    "        for idx, class_name in enumerate(classes):\n",
    "            self.class_to_idx[class_name] = idx\n",
    "            class_path = os.path.join(root_dir, class_name)\n",
    "            iris_dir = os.path.join(class_path, 'iris-eye')\n",
    "            vein_dir = os.path.join(class_path, 'finger-vein')\n",
    "            if not os.path.exists(iris_dir) or not os.path.exists(vein_dir):\n",
    "                continue\n",
    "            iris_imgs = os.listdir(iris_dir)\n",
    "            vein_imgs = os.listdir(vein_dir)\n",
    "            min_len = min(len(iris_imgs), len(vein_imgs))\n",
    "            for i in range(min_len):\n",
    "                self.samples.append({\n",
    "                    'iris': os.path.join(iris_dir, iris_imgs[i]),\n",
    "                    'vein': os.path.join(vein_dir, vein_imgs[i]),\n",
    "                    'label': idx\n",
    "                })\n",
    "\n",
    "    def __len__(self):\n",
    "        return len(self.samples)\n",
    "\n",
    "    def __getitem__(self, idx):\n",
    "        sample = self.samples[idx]\n",
    "        iris = Image.open(sample['iris']).convert('RGB')\n",
    "        vein = Image.open(sample['vein']).convert('RGB')\n",
    "\n",
    "        if self.transform:\n",
    "            iris = self.transform(iris)\n",
    "            vein = self.transform(vein)\n",
    "\n",
    "        return iris, vein, sample['label']\n",
    "\n",
    "# Model\n",
    "class MultimodalFusionNet(nn.Module):\n",
    "    def __init__(self, num_classes):\n",
    "        super(MultimodalFusionNet, self).__init__()\n",
    "        self.iris_model = models.mobilenet_v2(pretrained=True)\n",
    "        self.iris_model.classifier = nn.Identity()\n",
    "\n",
    "        self.vein_model = ViTModel.from_pretrained(\"google/vit-base-patch16-224-in21k\")\n",
    "\n",
    "        self.fusion = nn.Sequential(\n",
    "            nn.Linear(1280 + 768, 512),\n",
    "            nn.ReLU(),\n",
    "            nn.BatchNorm1d(512),\n",
    "            nn.Dropout(0.4),\n",
    "            nn.Linear(512, num_classes)\n",
    "        )\n",
    "\n",
    "    def forward(self, iris_img, vein_img):\n",
    "        iris_feat = F.normalize(self.iris_model(iris_img), dim=1)\n",
    "        vein_feat = F.normalize(self.vein_model(pixel_values=vein_img).last_hidden_state[:, 0, :], dim=1)\n",
    "        fused = torch.cat((iris_feat, vein_feat), dim=1)\n",
    "        return self.fusion(fused)\n",
    "\n",
    "# Accuracy\n",
    "def accuracy(preds, labels):\n",
    "    return (preds.argmax(dim=1) == labels).float().mean().item()\n",
    "\n",
    "# Training\n",
    "def train_model(model, train_loader, val_loader, device, epochs, patience):\n",
    "    model.to(device)\n",
    "    criterion = nn.CrossEntropyLoss(label_smoothing=0.1)\n",
    "    optimizer = torch.optim.Adam(model.parameters(), lr=1e-4)\n",
    "    scheduler = torch.optim.lr_scheduler.ReduceLROnPlateau(optimizer, mode='max', factor=0.5, patience=2)\n",
    "\n",
    "    best_val_acc = 0\n",
    "    patience_counter = 0\n",
    "\n",
    "    for epoch in range(epochs):\n",
    "        model.train()\n",
    "        total_train_acc = 0\n",
    "        for iris, vein, labels in tqdm(train_loader, desc=f\"Epoch {epoch+1}/{epochs}\"):\n",
    "            iris, vein, labels = iris.to(device), vein.to(device), labels.to(device)\n",
    "            optimizer.zero_grad()\n",
    "            outputs = model(iris, vein)\n",
    "            loss = criterion(outputs, labels)\n",
    "            loss.backward()\n",
    "            optimizer.step()\n",
    "            total_train_acc += accuracy(outputs, labels)\n",
    "\n",
    "        avg_train_acc = total_train_acc / len(train_loader)\n",
    "\n",
    "        model.eval()\n",
    "        total_val_acc = 0\n",
    "        with torch.no_grad():\n",
    "            for iris, vein, labels in val_loader:\n",
    "                iris, vein, labels = iris.to(device), vein.to(device), labels.to(device)\n",
    "                outputs = model(iris, vein)\n",
    "                total_val_acc += accuracy(outputs, labels)\n",
    "\n",
    "        avg_val_acc = total_val_acc / len(val_loader)\n",
    "        scheduler.step(avg_val_acc)\n",
    "\n",
    "        print(f\"Epoch {epoch+1} - Train Acc: {avg_train_acc:.4f}, Val Acc: {avg_val_acc:.4f}\")\n",
    "\n",
    "        if avg_val_acc > best_val_acc:\n",
    "            best_val_acc = avg_val_acc\n",
    "            patience_counter = 0\n",
    "            torch.save(model.state_dict(), 'best_model.pt')\n",
    "            print(\"✅ New best model saved.\")\n",
    "        else:\n",
    "            patience_counter += 1\n",
    "            if patience_counter >= patience:\n",
    "                print(\"🛑 Early stopping triggered.\")\n",
    "                break\n",
    "\n",
    "# Run\n",
    "if __name__ == '__main__':\n",
    "    transform = get_transforms()\n",
    "    dataset = BiometricDataset(DATASET_PATH, transform=transform)\n",
    "    if len(dataset) == 0:\n",
    "        raise ValueError(\"Dataset is empty! Check your DATASET_PATH and folder structure.\")\n",
    "\n",
    "    train_size = int(0.8 * len(dataset))\n",
    "    val_size = len(dataset) - train_size\n",
    "    train_set, val_set = random_split(dataset, [train_size, val_size])\n",
    "\n",
    "    train_loader = DataLoader(train_set, batch_size=BATCH_SIZE, shuffle=True)\n",
    "    val_loader = DataLoader(val_set, batch_size=BATCH_SIZE, shuffle=False)\n",
    "\n",
    "    device = torch.device(\"cuda\" if torch.cuda.is_available() else \"cpu\")\n",
    "    model = MultimodalFusionNet(num_classes=len(dataset.class_to_idx))\n",
    "    train_model(model, train_loader, val_loader, device, epochs=EPOCHS, patience=PATIENCE)\n",
    "\n",
    "    model.load_state_dict(torch.load('best_model.pt'))\n",
    "    model.eval()\n"
   ]
  },
  {
   "cell_type": "code",
   "execution_count": null,
   "metadata": {
    "id": "Jx36ljYaf2h_"
   },
   "outputs": [],
   "source": [
    "# Install necessary packages\n",
    "!pip install transformers timm scikit-learn matplotlib seaborn\n",
    "\n",
    "import os\n",
    "import torch\n",
    "import timm\n",
    "import torch.nn as nn\n",
    "import torch.nn.functional as F\n",
    "from torchvision import transforms\n",
    "from torchvision.datasets import ImageFolder\n",
    "from torch.utils.data import Dataset, DataLoader\n",
    "from sklearn.metrics import classification_report, confusion_matrix, roc_curve, auc\n",
    "import matplotlib.pyplot as plt\n",
    "import numpy as np\n",
    "import seaborn as sns\n",
    "from PIL import Image\n",
    "from glob import glob\n",
    "import random\n",
    "\n",
    "device = torch.device('cuda' if torch.cuda.is_available() else 'cpu')\n",
    "\n",
    "# Hyperparameters\n",
    "BATCH_SIZE = 32\n",
    "IMG_SIZE = 224\n",
    "EPOCHS = 25\n",
    "LR = 1e-4\n",
    "NUM_CLASSES = 492  # Adjust to your dataset\n",
    "\n",
    "# Transforms\n",
    "transform = transforms.Compose([\n",
    "    transforms.Resize((IMG_SIZE, IMG_SIZE)),\n",
    "    transforms.ToTensor(),\n",
    "    transforms.Normalize([0.5], [0.5])\n",
    "])\n",
    "\n",
    "# Custom multimodal dataset loader\n",
    "class MultimodalDataset(Dataset):\n",
    "    def __init__(self, root_dir, transform=None):\n",
    "        self.root_dir = root_dir\n",
    "        self.transform = transform\n",
    "        self.samples = []\n",
    "        self.class_map = {}\n",
    "        self.load_samples()\n",
    "\n",
    "    def load_samples(self):\n",
    "        class_dirs = sorted(os.listdir(self.root_dir))\n",
    "        for idx, class_id in enumerate(class_dirs):\n",
    "            class_path = os.path.join(self.root_dir, class_id)\n",
    "            if os.path.isdir(class_path):\n",
    "                finger_images = glob(os.path.join(class_path, \"finger-vein\", \"*.jpg\"))\n",
    "                iris_images = glob(os.path.join(class_path, \"iris-eye\", \"*.jpg\"))\n",
    "                min_len = min(len(finger_images), len(iris_images))\n",
    "                self.samples += [(finger_images[i], iris_images[i], idx) for i in range(min_len)]\n",
    "                self.class_map[idx] = class_id\n",
    "\n",
    "    def __len__(self):\n",
    "        return len(self.samples)\n",
    "\n",
    "    def __getitem__(self, idx):\n",
    "        finger_path, iris_path, label = self.samples[idx]\n",
    "        finger = self.transform(Image.open(finger_path).convert(\"RGB\"))\n",
    "        iris = self.transform(Image.open(iris_path).convert(\"RGB\"))\n",
    "        return finger, iris, label\n",
    "\n",
    "# Dataset and DataLoader\n",
    "dataset = MultimodalDataset('/content/drive/MyDrive/Multimodal Biometric 3', transform=transform)\n",
    "train_size = int(0.8 * len(dataset))\n",
    "val_size = len(dataset) - train_size\n",
    "train_ds, val_ds = torch.utils.data.random_split(dataset, [train_size, val_size])\n",
    "train_loader = DataLoader(train_ds, batch_size=BATCH_SIZE, shuffle=True)\n",
    "val_loader = DataLoader(val_ds, batch_size=BATCH_SIZE)\n",
    "\n",
    "# Feature extractor ViT\n",
    "class FeatureExtractor(nn.Module):\n",
    "    def __init__(self, model_name='vit_base_patch16_224', pretrained=True):\n",
    "        super().__init__()\n",
    "        self.model = timm.create_model(model_name, pretrained=pretrained)\n",
    "        self.model.head = nn.Identity()\n",
    "\n",
    "    def forward(self, x):\n",
    "        return self.model(x)\n",
    "\n",
    "# Fusion model\n",
    "class FusionClassifier(nn.Module):\n",
    "    def __init__(self, input_dim=768*2, num_classes=NUM_CLASSES):\n",
    "        super().__init__()\n",
    "        self.fc = nn.Sequential(\n",
    "            nn.Linear(input_dim, 512),\n",
    "            nn.ReLU(),\n",
    "            nn.Dropout(0.3),\n",
    "            nn.Linear(512, num_classes)\n",
    "        )\n",
    "\n",
    "    def forward(self, feat1, feat2):\n",
    "        fused = torch.cat([feat1, feat2], dim=1)  # Feature-level fusion\n",
    "        return self.fc(fused)\n",
    "\n",
    "# Score-level + attraction-level fusion wrapper\n",
    "class MultimodalModel(nn.Module):\n",
    "    def __init__(self, num_classes=NUM_CLASSES):\n",
    "        super().__init__()\n",
    "        self.fv_extractor = FeatureExtractor()\n",
    "        self.iris_extractor = FeatureExtractor()\n",
    "        self.fusion_classifier = FusionClassifier(768*2, num_classes)\n",
    "\n",
    "    def forward(self, fv_img, iris_img):\n",
    "        fv_feat = self.fv_extractor(fv_img)\n",
    "        iris_feat = self.iris_extractor(iris_img)\n",
    "\n",
    "        logits = self.fusion_classifier(fv_feat, iris_feat)\n",
    "        # Score-level fusion could also average the softmax scores:\n",
    "        scores = F.softmax(logits, dim=1)\n",
    "        return logits, scores\n",
    "\n",
    "model = MultimodalModel().to(device)\n",
    "\n",
    "# Loss and optimizer\n",
    "criterion = nn.CrossEntropyLoss()\n",
    "optimizer = torch.optim.Adam(model.parameters(), lr=LR)\n",
    "\n",
    "# Training loop\n",
    "def train_model():\n",
    "    best_acc = 0.0\n",
    "    for epoch in range(EPOCHS):\n",
    "        model.train()\n",
    "        total, correct = 0, 0\n",
    "        for fv, iris, labels in train_loader:\n",
    "            fv, iris, labels = fv.to(device), iris.to(device), labels.to(device)\n",
    "            optimizer.zero_grad()\n",
    "            outputs, _ = model(fv, iris)\n",
    "            loss = criterion(outputs, labels)\n",
    "            loss.backward()\n",
    "            optimizer.step()\n",
    "            _, predicted = torch.max(outputs, 1)\n",
    "            correct += (predicted == labels).sum().item()\n",
    "            total += labels.size(0)\n",
    "\n",
    "        acc = 100 * correct / total\n",
    "        print(f\"Epoch {epoch+1}/{EPOCHS}, Train Accuracy: {acc:.2f}%\")\n",
    "\n",
    "        evaluate_model()\n",
    "\n",
    "# Evaluation function\n",
    "def evaluate_model():\n",
    "    model.eval()\n",
    "    all_preds, all_labels = [], []\n",
    "    with torch.no_grad():\n",
    "        for fv, iris, labels in val_loader:\n",
    "            fv, iris = fv.to(device), iris.to(device)\n",
    "            outputs, _ = model(fv, iris)\n",
    "            _, predicted = torch.max(outputs.data, 1)\n",
    "            all_preds.extend(predicted.cpu().numpy())\n",
    "            all_labels.extend(labels.numpy())\n",
    "\n",
    "    print(\"Classification Report:\")\n",
    "    print(classification_report(all_labels, all_preds))\n",
    "    cm = confusion_matrix(all_labels, all_preds)\n",
    "    plt.figure(figsize=(10, 8))\n",
    "    sns.heatmap(cm, annot=False, fmt=\"d\", cmap=\"Blues\")\n",
    "    plt.title(\"Confusion Matrix\")\n",
    "    plt.xlabel(\"Predicted\")\n",
    "    plt.ylabel(\"True\")\n",
    "    plt.show()\n",
    "\n",
    "train_model()\n"
   ]
  },
  {
   "cell_type": "code",
   "execution_count": null,
   "metadata": {
    "colab": {
     "base_uri": "https://localhost:8080/"
    },
    "executionInfo": {
     "elapsed": 106319,
     "status": "ok",
     "timestamp": 1748763335970,
     "user": {
      "displayName": "jerrykarunya",
      "userId": "00961226722197498778"
     },
     "user_tz": -330
    },
    "id": "hR8Tw2vQaNaW",
    "outputId": "8c61dc7b-3e15-4135-b9eb-94decd6c612b"
   },
   "outputs": [
    {
     "name": "stdout",
     "output_type": "stream",
     "text": [
      "Requirement already satisfied: timm in /usr/local/lib/python3.11/dist-packages (1.0.15)\n",
      "Requirement already satisfied: einops in /usr/local/lib/python3.11/dist-packages (0.8.1)\n",
      "Requirement already satisfied: scikit-learn in /usr/local/lib/python3.11/dist-packages (1.6.1)\n",
      "Requirement already satisfied: matplotlib in /usr/local/lib/python3.11/dist-packages (3.10.0)\n",
      "Collecting optuna\n",
      "  Downloading optuna-4.3.0-py3-none-any.whl.metadata (17 kB)\n",
      "Requirement already satisfied: torch in /usr/local/lib/python3.11/dist-packages (from timm) (2.6.0+cu124)\n",
      "Requirement already satisfied: torchvision in /usr/local/lib/python3.11/dist-packages (from timm) (0.21.0+cu124)\n",
      "Requirement already satisfied: pyyaml in /usr/local/lib/python3.11/dist-packages (from timm) (6.0.2)\n",
      "Requirement already satisfied: huggingface_hub in /usr/local/lib/python3.11/dist-packages (from timm) (0.31.4)\n",
      "Requirement already satisfied: safetensors in /usr/local/lib/python3.11/dist-packages (from timm) (0.5.3)\n",
      "Requirement already satisfied: numpy>=1.19.5 in /usr/local/lib/python3.11/dist-packages (from scikit-learn) (2.0.2)\n",
      "Requirement already satisfied: scipy>=1.6.0 in /usr/local/lib/python3.11/dist-packages (from scikit-learn) (1.15.3)\n",
      "Requirement already satisfied: joblib>=1.2.0 in /usr/local/lib/python3.11/dist-packages (from scikit-learn) (1.5.0)\n",
      "Requirement already satisfied: threadpoolctl>=3.1.0 in /usr/local/lib/python3.11/dist-packages (from scikit-learn) (3.6.0)\n",
      "Requirement already satisfied: contourpy>=1.0.1 in /usr/local/lib/python3.11/dist-packages (from matplotlib) (1.3.2)\n",
      "Requirement already satisfied: cycler>=0.10 in /usr/local/lib/python3.11/dist-packages (from matplotlib) (0.12.1)\n",
      "Requirement already satisfied: fonttools>=4.22.0 in /usr/local/lib/python3.11/dist-packages (from matplotlib) (4.58.0)\n",
      "Requirement already satisfied: kiwisolver>=1.3.1 in /usr/local/lib/python3.11/dist-packages (from matplotlib) (1.4.8)\n",
      "Requirement already satisfied: packaging>=20.0 in /usr/local/lib/python3.11/dist-packages (from matplotlib) (24.2)\n",
      "Requirement already satisfied: pillow>=8 in /usr/local/lib/python3.11/dist-packages (from matplotlib) (11.2.1)\n",
      "Requirement already satisfied: pyparsing>=2.3.1 in /usr/local/lib/python3.11/dist-packages (from matplotlib) (3.2.3)\n",
      "Requirement already satisfied: python-dateutil>=2.7 in /usr/local/lib/python3.11/dist-packages (from matplotlib) (2.9.0.post0)\n",
      "Collecting alembic>=1.5.0 (from optuna)\n",
      "  Downloading alembic-1.16.1-py3-none-any.whl.metadata (7.3 kB)\n",
      "Collecting colorlog (from optuna)\n",
      "  Downloading colorlog-6.9.0-py3-none-any.whl.metadata (10 kB)\n",
      "Requirement already satisfied: sqlalchemy>=1.4.2 in /usr/local/lib/python3.11/dist-packages (from optuna) (2.0.41)\n",
      "Requirement already satisfied: tqdm in /usr/local/lib/python3.11/dist-packages (from optuna) (4.67.1)\n",
      "Requirement already satisfied: Mako in /usr/lib/python3/dist-packages (from alembic>=1.5.0->optuna) (1.1.3)\n",
      "Requirement already satisfied: typing-extensions>=4.12 in /usr/local/lib/python3.11/dist-packages (from alembic>=1.5.0->optuna) (4.13.2)\n",
      "Requirement already satisfied: six>=1.5 in /usr/local/lib/python3.11/dist-packages (from python-dateutil>=2.7->matplotlib) (1.17.0)\n",
      "Requirement already satisfied: greenlet>=1 in /usr/local/lib/python3.11/dist-packages (from sqlalchemy>=1.4.2->optuna) (3.2.2)\n",
      "Requirement already satisfied: filelock in /usr/local/lib/python3.11/dist-packages (from huggingface_hub->timm) (3.18.0)\n",
      "Requirement already satisfied: fsspec>=2023.5.0 in /usr/local/lib/python3.11/dist-packages (from huggingface_hub->timm) (2025.3.2)\n",
      "Requirement already satisfied: requests in /usr/local/lib/python3.11/dist-packages (from huggingface_hub->timm) (2.32.3)\n",
      "Requirement already satisfied: networkx in /usr/local/lib/python3.11/dist-packages (from torch->timm) (3.4.2)\n",
      "Requirement already satisfied: jinja2 in /usr/local/lib/python3.11/dist-packages (from torch->timm) (3.1.6)\n",
      "Collecting nvidia-cuda-nvrtc-cu12==12.4.127 (from torch->timm)\n",
      "  Downloading nvidia_cuda_nvrtc_cu12-12.4.127-py3-none-manylinux2014_x86_64.whl.metadata (1.5 kB)\n",
      "Collecting nvidia-cuda-runtime-cu12==12.4.127 (from torch->timm)\n",
      "  Downloading nvidia_cuda_runtime_cu12-12.4.127-py3-none-manylinux2014_x86_64.whl.metadata (1.5 kB)\n",
      "Collecting nvidia-cuda-cupti-cu12==12.4.127 (from torch->timm)\n",
      "  Downloading nvidia_cuda_cupti_cu12-12.4.127-py3-none-manylinux2014_x86_64.whl.metadata (1.6 kB)\n",
      "Collecting nvidia-cudnn-cu12==9.1.0.70 (from torch->timm)\n",
      "  Downloading nvidia_cudnn_cu12-9.1.0.70-py3-none-manylinux2014_x86_64.whl.metadata (1.6 kB)\n",
      "Collecting nvidia-cublas-cu12==12.4.5.8 (from torch->timm)\n",
      "  Downloading nvidia_cublas_cu12-12.4.5.8-py3-none-manylinux2014_x86_64.whl.metadata (1.5 kB)\n",
      "Collecting nvidia-cufft-cu12==11.2.1.3 (from torch->timm)\n",
      "  Downloading nvidia_cufft_cu12-11.2.1.3-py3-none-manylinux2014_x86_64.whl.metadata (1.5 kB)\n",
      "Collecting nvidia-curand-cu12==10.3.5.147 (from torch->timm)\n",
      "  Downloading nvidia_curand_cu12-10.3.5.147-py3-none-manylinux2014_x86_64.whl.metadata (1.5 kB)\n",
      "Collecting nvidia-cusolver-cu12==11.6.1.9 (from torch->timm)\n",
      "  Downloading nvidia_cusolver_cu12-11.6.1.9-py3-none-manylinux2014_x86_64.whl.metadata (1.6 kB)\n",
      "Collecting nvidia-cusparse-cu12==12.3.1.170 (from torch->timm)\n",
      "  Downloading nvidia_cusparse_cu12-12.3.1.170-py3-none-manylinux2014_x86_64.whl.metadata (1.6 kB)\n",
      "Requirement already satisfied: nvidia-cusparselt-cu12==0.6.2 in /usr/local/lib/python3.11/dist-packages (from torch->timm) (0.6.2)\n",
      "Requirement already satisfied: nvidia-nccl-cu12==2.21.5 in /usr/local/lib/python3.11/dist-packages (from torch->timm) (2.21.5)\n",
      "Requirement already satisfied: nvidia-nvtx-cu12==12.4.127 in /usr/local/lib/python3.11/dist-packages (from torch->timm) (12.4.127)\n",
      "Collecting nvidia-nvjitlink-cu12==12.4.127 (from torch->timm)\n",
      "  Downloading nvidia_nvjitlink_cu12-12.4.127-py3-none-manylinux2014_x86_64.whl.metadata (1.5 kB)\n",
      "Requirement already satisfied: triton==3.2.0 in /usr/local/lib/python3.11/dist-packages (from torch->timm) (3.2.0)\n",
      "Requirement already satisfied: sympy==1.13.1 in /usr/local/lib/python3.11/dist-packages (from torch->timm) (1.13.1)\n",
      "Requirement already satisfied: mpmath<1.4,>=1.1.0 in /usr/local/lib/python3.11/dist-packages (from sympy==1.13.1->torch->timm) (1.3.0)\n",
      "Requirement already satisfied: MarkupSafe>=2.0 in /usr/local/lib/python3.11/dist-packages (from jinja2->torch->timm) (3.0.2)\n",
      "Requirement already satisfied: charset-normalizer<4,>=2 in /usr/local/lib/python3.11/dist-packages (from requests->huggingface_hub->timm) (3.4.2)\n",
      "Requirement already satisfied: idna<4,>=2.5 in /usr/local/lib/python3.11/dist-packages (from requests->huggingface_hub->timm) (3.10)\n",
      "Requirement already satisfied: urllib3<3,>=1.21.1 in /usr/local/lib/python3.11/dist-packages (from requests->huggingface_hub->timm) (2.4.0)\n",
      "Requirement already satisfied: certifi>=2017.4.17 in /usr/local/lib/python3.11/dist-packages (from requests->huggingface_hub->timm) (2025.4.26)\n",
      "Downloading optuna-4.3.0-py3-none-any.whl (386 kB)\n",
      "\u001b[2K   \u001b[90m━━━━━━━━━━━━━━━━━━━━━━━━━━━━━━━━━━━━━━━━\u001b[0m \u001b[32m386.6/386.6 kB\u001b[0m \u001b[31m11.8 MB/s\u001b[0m eta \u001b[36m0:00:00\u001b[0m\n",
      "\u001b[?25hDownloading alembic-1.16.1-py3-none-any.whl (242 kB)\n",
      "\u001b[2K   \u001b[90m━━━━━━━━━━━━━━━━━━━━━━━━━━━━━━━━━━━━━━━━\u001b[0m \u001b[32m242.5/242.5 kB\u001b[0m \u001b[31m24.5 MB/s\u001b[0m eta \u001b[36m0:00:00\u001b[0m\n",
      "\u001b[?25hDownloading colorlog-6.9.0-py3-none-any.whl (11 kB)\n",
      "Downloading nvidia_cublas_cu12-12.4.5.8-py3-none-manylinux2014_x86_64.whl (363.4 MB)\n",
      "\u001b[2K   \u001b[90m━━━━━━━━━━━━━━━━━━━━━━━━━━━━━━━━━━━━━━━━\u001b[0m \u001b[32m363.4/363.4 MB\u001b[0m \u001b[31m4.0 MB/s\u001b[0m eta \u001b[36m0:00:00\u001b[0m\n",
      "\u001b[?25hDownloading nvidia_cuda_cupti_cu12-12.4.127-py3-none-manylinux2014_x86_64.whl (13.8 MB)\n",
      "\u001b[2K   \u001b[90m━━━━━━━━━━━━━━━━━━━━━━━━━━━━━━━━━━━━━━━━\u001b[0m \u001b[32m13.8/13.8 MB\u001b[0m \u001b[31m82.8 MB/s\u001b[0m eta \u001b[36m0:00:00\u001b[0m\n",
      "\u001b[?25hDownloading nvidia_cuda_nvrtc_cu12-12.4.127-py3-none-manylinux2014_x86_64.whl (24.6 MB)\n",
      "\u001b[2K   \u001b[90m━━━━━━━━━━━━━━━━━━━━━━━━━━━━━━━━━━━━━━━━\u001b[0m \u001b[32m24.6/24.6 MB\u001b[0m \u001b[31m98.6 MB/s\u001b[0m eta \u001b[36m0:00:00\u001b[0m\n",
      "\u001b[?25hDownloading nvidia_cuda_runtime_cu12-12.4.127-py3-none-manylinux2014_x86_64.whl (883 kB)\n",
      "\u001b[2K   \u001b[90m━━━━━━━━━━━━━━━━━━━━━━━━━━━━━━━━━━━━━━━━\u001b[0m \u001b[32m883.7/883.7 kB\u001b[0m \u001b[31m62.5 MB/s\u001b[0m eta \u001b[36m0:00:00\u001b[0m\n",
      "\u001b[?25hDownloading nvidia_cudnn_cu12-9.1.0.70-py3-none-manylinux2014_x86_64.whl (664.8 MB)\n",
      "\u001b[2K   \u001b[90m━━━━━━━━━━━━━━━━━━━━━━━━━━━━━━━━━━━━━━━━\u001b[0m \u001b[32m664.8/664.8 MB\u001b[0m \u001b[31m1.2 MB/s\u001b[0m eta \u001b[36m0:00:00\u001b[0m\n",
      "\u001b[?25hDownloading nvidia_cufft_cu12-11.2.1.3-py3-none-manylinux2014_x86_64.whl (211.5 MB)\n",
      "\u001b[2K   \u001b[90m━━━━━━━━━━━━━━━━━━━━━━━━━━━━━━━━━━━━━━━━\u001b[0m \u001b[32m211.5/211.5 MB\u001b[0m \u001b[31m6.3 MB/s\u001b[0m eta \u001b[36m0:00:00\u001b[0m\n",
      "\u001b[?25hDownloading nvidia_curand_cu12-10.3.5.147-py3-none-manylinux2014_x86_64.whl (56.3 MB)\n",
      "\u001b[2K   \u001b[90m━━━━━━━━━━━━━━━━━━━━━━━━━━━━━━━━━━━━━━━━\u001b[0m \u001b[32m56.3/56.3 MB\u001b[0m \u001b[31m14.7 MB/s\u001b[0m eta \u001b[36m0:00:00\u001b[0m\n",
      "\u001b[?25hDownloading nvidia_cusolver_cu12-11.6.1.9-py3-none-manylinux2014_x86_64.whl (127.9 MB)\n",
      "\u001b[2K   \u001b[90m━━━━━━━━━━━━━━━━━━━━━━━━━━━━━━━━━━━━━━━━\u001b[0m \u001b[32m127.9/127.9 MB\u001b[0m \u001b[31m7.8 MB/s\u001b[0m eta \u001b[36m0:00:00\u001b[0m\n",
      "\u001b[?25hDownloading nvidia_cusparse_cu12-12.3.1.170-py3-none-manylinux2014_x86_64.whl (207.5 MB)\n",
      "\u001b[2K   \u001b[90m━━━━━━━━━━━━━━━━━━━━━━━━━━━━━━━━━━━━━━━━\u001b[0m \u001b[32m207.5/207.5 MB\u001b[0m \u001b[31m7.4 MB/s\u001b[0m eta \u001b[36m0:00:00\u001b[0m\n",
      "\u001b[?25hDownloading nvidia_nvjitlink_cu12-12.4.127-py3-none-manylinux2014_x86_64.whl (21.1 MB)\n",
      "\u001b[2K   \u001b[90m━━━━━━━━━━━━━━━━━━━━━━━━━━━━━━━━━━━━━━━━\u001b[0m \u001b[32m21.1/21.1 MB\u001b[0m \u001b[31m104.3 MB/s\u001b[0m eta \u001b[36m0:00:00\u001b[0m\n",
      "\u001b[?25hInstalling collected packages: nvidia-nvjitlink-cu12, nvidia-curand-cu12, nvidia-cufft-cu12, nvidia-cuda-runtime-cu12, nvidia-cuda-nvrtc-cu12, nvidia-cuda-cupti-cu12, nvidia-cublas-cu12, colorlog, nvidia-cusparse-cu12, nvidia-cudnn-cu12, alembic, optuna, nvidia-cusolver-cu12\n",
      "  Attempting uninstall: nvidia-nvjitlink-cu12\n",
      "    Found existing installation: nvidia-nvjitlink-cu12 12.5.82\n",
      "    Uninstalling nvidia-nvjitlink-cu12-12.5.82:\n",
      "      Successfully uninstalled nvidia-nvjitlink-cu12-12.5.82\n",
      "  Attempting uninstall: nvidia-curand-cu12\n",
      "    Found existing installation: nvidia-curand-cu12 10.3.6.82\n",
      "    Uninstalling nvidia-curand-cu12-10.3.6.82:\n",
      "      Successfully uninstalled nvidia-curand-cu12-10.3.6.82\n",
      "  Attempting uninstall: nvidia-cufft-cu12\n",
      "    Found existing installation: nvidia-cufft-cu12 11.2.3.61\n",
      "    Uninstalling nvidia-cufft-cu12-11.2.3.61:\n",
      "      Successfully uninstalled nvidia-cufft-cu12-11.2.3.61\n",
      "  Attempting uninstall: nvidia-cuda-runtime-cu12\n",
      "    Found existing installation: nvidia-cuda-runtime-cu12 12.5.82\n",
      "    Uninstalling nvidia-cuda-runtime-cu12-12.5.82:\n",
      "      Successfully uninstalled nvidia-cuda-runtime-cu12-12.5.82\n",
      "  Attempting uninstall: nvidia-cuda-nvrtc-cu12\n",
      "    Found existing installation: nvidia-cuda-nvrtc-cu12 12.5.82\n",
      "    Uninstalling nvidia-cuda-nvrtc-cu12-12.5.82:\n",
      "      Successfully uninstalled nvidia-cuda-nvrtc-cu12-12.5.82\n",
      "  Attempting uninstall: nvidia-cuda-cupti-cu12\n",
      "    Found existing installation: nvidia-cuda-cupti-cu12 12.5.82\n",
      "    Uninstalling nvidia-cuda-cupti-cu12-12.5.82:\n",
      "      Successfully uninstalled nvidia-cuda-cupti-cu12-12.5.82\n",
      "  Attempting uninstall: nvidia-cublas-cu12\n",
      "    Found existing installation: nvidia-cublas-cu12 12.5.3.2\n",
      "    Uninstalling nvidia-cublas-cu12-12.5.3.2:\n",
      "      Successfully uninstalled nvidia-cublas-cu12-12.5.3.2\n",
      "  Attempting uninstall: nvidia-cusparse-cu12\n",
      "    Found existing installation: nvidia-cusparse-cu12 12.5.1.3\n",
      "    Uninstalling nvidia-cusparse-cu12-12.5.1.3:\n",
      "      Successfully uninstalled nvidia-cusparse-cu12-12.5.1.3\n",
      "  Attempting uninstall: nvidia-cudnn-cu12\n",
      "    Found existing installation: nvidia-cudnn-cu12 9.3.0.75\n",
      "    Uninstalling nvidia-cudnn-cu12-9.3.0.75:\n",
      "      Successfully uninstalled nvidia-cudnn-cu12-9.3.0.75\n",
      "  Attempting uninstall: nvidia-cusolver-cu12\n",
      "    Found existing installation: nvidia-cusolver-cu12 11.6.3.83\n",
      "    Uninstalling nvidia-cusolver-cu12-11.6.3.83:\n",
      "      Successfully uninstalled nvidia-cusolver-cu12-11.6.3.83\n",
      "Successfully installed alembic-1.16.1 colorlog-6.9.0 nvidia-cublas-cu12-12.4.5.8 nvidia-cuda-cupti-cu12-12.4.127 nvidia-cuda-nvrtc-cu12-12.4.127 nvidia-cuda-runtime-cu12-12.4.127 nvidia-cudnn-cu12-9.1.0.70 nvidia-cufft-cu12-11.2.1.3 nvidia-curand-cu12-10.3.5.147 nvidia-cusolver-cu12-11.6.1.9 nvidia-cusparse-cu12-12.3.1.170 nvidia-nvjitlink-cu12-12.4.127 optuna-4.3.0\n"
     ]
    }
   ],
   "source": [
    "!pip install timm einops scikit-learn matplotlib optuna"
   ]
  },
  {
   "cell_type": "code",
   "execution_count": null,
   "metadata": {
    "colab": {
     "base_uri": "https://localhost:8080/"
    },
    "executionInfo": {
     "elapsed": 1919,
     "status": "ok",
     "timestamp": 1748843855015,
     "user": {
      "displayName": "jerrykarunya",
      "userId": "00961226722197498778"
     },
     "user_tz": -330
    },
    "id": "s7UCZHfWN0kJ",
    "outputId": "7b3e8bc5-c637-429b-b0e9-94c00c32884b"
   },
   "outputs": [
    {
     "name": "stdout",
     "output_type": "stream",
     "text": [
      "Requirement already satisfied: opencv-python-headless in /usr/local/lib/python3.11/dist-packages (4.11.0.86)\n",
      "Requirement already satisfied: scikit-image in /usr/local/lib/python3.11/dist-packages (0.25.2)\n",
      "Requirement already satisfied: matplotlib in /usr/local/lib/python3.11/dist-packages (3.10.0)\n",
      "Requirement already satisfied: numpy>=1.21.2 in /usr/local/lib/python3.11/dist-packages (from opencv-python-headless) (2.0.2)\n",
      "Requirement already satisfied: scipy>=1.11.4 in /usr/local/lib/python3.11/dist-packages (from scikit-image) (1.15.3)\n",
      "Requirement already satisfied: networkx>=3.0 in /usr/local/lib/python3.11/dist-packages (from scikit-image) (3.4.2)\n",
      "Requirement already satisfied: pillow>=10.1 in /usr/local/lib/python3.11/dist-packages (from scikit-image) (11.2.1)\n",
      "Requirement already satisfied: imageio!=2.35.0,>=2.33 in /usr/local/lib/python3.11/dist-packages (from scikit-image) (2.37.0)\n",
      "Requirement already satisfied: tifffile>=2022.8.12 in /usr/local/lib/python3.11/dist-packages (from scikit-image) (2025.5.21)\n",
      "Requirement already satisfied: packaging>=21 in /usr/local/lib/python3.11/dist-packages (from scikit-image) (24.2)\n",
      "Requirement already satisfied: lazy-loader>=0.4 in /usr/local/lib/python3.11/dist-packages (from scikit-image) (0.4)\n",
      "Requirement already satisfied: contourpy>=1.0.1 in /usr/local/lib/python3.11/dist-packages (from matplotlib) (1.3.2)\n",
      "Requirement already satisfied: cycler>=0.10 in /usr/local/lib/python3.11/dist-packages (from matplotlib) (0.12.1)\n",
      "Requirement already satisfied: fonttools>=4.22.0 in /usr/local/lib/python3.11/dist-packages (from matplotlib) (4.58.0)\n",
      "Requirement already satisfied: kiwisolver>=1.3.1 in /usr/local/lib/python3.11/dist-packages (from matplotlib) (1.4.8)\n",
      "Requirement already satisfied: pyparsing>=2.3.1 in /usr/local/lib/python3.11/dist-packages (from matplotlib) (3.2.3)\n",
      "Requirement already satisfied: python-dateutil>=2.7 in /usr/local/lib/python3.11/dist-packages (from matplotlib) (2.9.0.post0)\n",
      "Requirement already satisfied: six>=1.5 in /usr/local/lib/python3.11/dist-packages (from python-dateutil>=2.7->matplotlib) (1.17.0)\n"
     ]
    }
   ],
   "source": [
    "!pip install opencv-python-headless scikit-image matplotlib\n"
   ]
  },
  {
   "cell_type": "code",
   "execution_count": null,
   "metadata": {
    "id": "TY4rx3Q7N5nm"
   },
   "outputs": [],
   "source": [
    "import os\n",
    "import cv2\n",
    "import numpy as np\n",
    "from skimage.filters import threshold_otsu\n",
    "from skimage.morphology import closing, opening, disk\n",
    "import matplotlib.pyplot as plt\n",
    "\n",
    "# Pupil detection\n",
    "def detect_pupil(img):\n",
    "    blurred = cv2.medianBlur(img, 5)\n",
    "    circles = cv2.HoughCircles(blurred, cv2.HOUGH_GRADIENT, dp=1.2, minDist=40,\n",
    "                                param1=70, param2=40, minRadius=50, maxRadius=80)\n",
    "    if circles is not None:\n",
    "        return np.uint16(np.around(circles))[0][0]  # (x, y, r)\n",
    "    return None\n",
    "\n",
    "# Normalize iris to rectangular format\n",
    "def normalize_circle(img, center, radius, output_size=(64, 128)):\n",
    "    theta = np.linspace(0, 2 * np.pi, output_size[1])\n",
    "    r_vals = np.linspace(0, radius, output_size[0])\n",
    "    r_grid, theta_grid = np.meshgrid(r_vals, theta)\n",
    "    x_map = center[0] + r_grid * np.cos(theta_grid)\n",
    "    y_map = center[1] + r_grid * np.sin(theta_grid)\n",
    "    x_map = np.clip(x_map, 0, img.shape[1] - 1).astype(np.float32)\n",
    "    y_map = np.clip(y_map, 0, img.shape[0] - 1).astype(np.float32)\n",
    "    unwrapped = cv2.remap(img, x_map, y_map, interpolation=cv2.INTER_LINEAR)\n",
    "    return unwrapped.T\n",
    "\n",
    "# Set your base input and output directories\n",
    "base_dir = \"/content/drive/MyDrive/CASIA-Iris-Thousand\"\n",
    "output_dir = \"/content/drive/MyDrive/preprocessed iris-eye\"\n",
    "os.makedirs(output_dir, exist_ok=True)\n",
    "\n",
    "processed_images = []\n",
    "skipped_images = 0\n",
    "\n",
    "for root, dirs, files in os.walk(base_dir):\n",
    "    for img_name in files:\n",
    "        if not img_name.lower().endswith((\".jpg\", \".jpeg\", \".png\", \".bmp\")):\n",
    "            continue\n",
    "\n",
    "        img_path = os.path.join(root, img_name)\n",
    "        try:\n",
    "            image = cv2.imread(img_path)\n",
    "            if image is None:\n",
    "                print(f\"⚠️ Unreadable image: {img_path}\")\n",
    "                skipped_images += 1\n",
    "                continue\n",
    "\n",
    "            # Step 1: CLAHE grayscale enhancement\n",
    "            gray = cv2.cvtColor(image, cv2.COLOR_BGR2GRAY)\n",
    "            clahe = cv2.createCLAHE(clipLimit=2.0, tileGridSize=(8, 8))\n",
    "            enhanced = clahe.apply(gray)\n",
    "\n",
    "            # Step 2: Detect Pupil\n",
    "            pupil = detect_pupil(enhanced)\n",
    "            if pupil is None:\n",
    "                print(f\"⛔ Skipped (pupil not found): {img_path}\")\n",
    "                skipped_images += 1\n",
    "                continue\n",
    "            x, y, r = pupil\n",
    "\n",
    "            # Step 3: Morphological operations\n",
    "            margin = 5\n",
    "            roi = enhanced[y - r - margin:y + r + margin, x - r - margin:x + r + margin]\n",
    "            otsu_thresh = threshold_otsu(roi)\n",
    "            binary_roi = roi > otsu_thresh\n",
    "            cleaned_roi = opening(closing(binary_roi, disk(3)), disk(2))\n",
    "\n",
    "            # Step 4: Circular normalization\n",
    "            normalized = normalize_circle(enhanced, (x, y), r)\n",
    "\n",
    "            # Step 5: Resize and save\n",
    "            final = cv2.resize(normalized, (224, 224), interpolation=cv2.INTER_AREA)\n",
    "\n",
    "            person_id = os.path.basename(os.path.dirname(root))\n",
    "            eye_label = os.path.basename(root)\n",
    "            save_name = f\"{person_id}_{eye_label}_{os.path.splitext(img_name)[0]}.png\"\n",
    "            save_path = os.path.join(output_dir, save_name)\n",
    "\n",
    "            cv2.imwrite(save_path, final * 255 if final.max() <= 1.0 else final)\n",
    "            processed_images.append(save_path)\n",
    "\n",
    "        except Exception as e:\n",
    "            print(f\"❌ Error processing {img_path}: {e}\")\n",
    "            skipped_images += 1\n",
    "            continue\n",
    "\n",
    "print(f\"\\n✅ Total processed: {len(processed_images)}\")\n",
    "print(f\"❌ Skipped: {skipped_images}\")\n",
    "\n",
    "for path in processed_images[:5]:\n",
    "    img = cv2.imread(path, cv2.IMREAD_GRAYSCALE)\n",
    "    plt.figure(figsize=(6,2))\n",
    "    plt.imshow(img, cmap='gray')\n",
    "    plt.title(f\"Processed: {os.path.basename(path)}\")\n",
    "    plt.axis('off')\n",
    "    plt.show()\n"
   ]
  },
  {
   "cell_type": "code",
   "execution_count": null,
   "metadata": {
    "colab": {
     "base_uri": "https://localhost:8080/"
    },
    "executionInfo": {
     "elapsed": 4652346,
     "status": "ok",
     "timestamp": 1748869633053,
     "user": {
      "displayName": "jerrykarunya",
      "userId": "00961226722197498778"
     },
     "user_tz": -330
    },
    "id": "8xpbD2wQeKI-",
    "outputId": "4dbf1a41-5332-40dc-9fc1-5e2b799beba6"
   },
   "outputs": [
    {
     "name": "stdout",
     "output_type": "stream",
     "text": [
      "✅ Creating 492 multimodal class folders with 6 images per modality...\n"
     ]
    },
    {
     "name": "stderr",
     "output_type": "stream",
     "text": [
      "100%|██████████| 492/492 [1:14:10<00:00,  9.05s/it]"
     ]
    },
    {
     "name": "stdout",
     "output_type": "stream",
     "text": [
      "\n",
      "✅ Done. Multimodal dataset with 6 images per modality created at: /content/drive/MyDrive/Multimodal Biometric 3\n",
      "\n",
      "📁 Sample class folders created:\n",
      " - /content/drive/MyDrive/Multimodal Biometric 3/0001\n",
      " - /content/drive/MyDrive/Multimodal Biometric 3/0002\n",
      " - /content/drive/MyDrive/Multimodal Biometric 3/0003\n"
     ]
    },
    {
     "name": "stderr",
     "output_type": "stream",
     "text": [
      "\n"
     ]
    }
   ],
   "source": [
    "import os\n",
    "import shutil\n",
    "from tqdm import tqdm\n",
    "\n",
    "# Input paths\n",
    "iris_root = '/content/drive/MyDrive/iris-preprocessed'\n",
    "fv_root = '/content/drive/MyDrive/Output drive session 1'\n",
    "\n",
    "# Output root directory\n",
    "output_root = '/content/drive/MyDrive/Multimodal Biometric 3'\n",
    "os.makedirs(output_root, exist_ok=True)\n",
    "\n",
    "# Helper: Find all subfolders under iris_root that contain image files\n",
    "def get_leaf_folders_with_images(root_dir):\n",
    "    leaf_folders = []\n",
    "    for root, dirs, files in os.walk(root_dir):\n",
    "        image_files = [f for f in files if f.lower().endswith(('.jpg', '.jpeg', '.png', '.bmp'))]\n",
    "        if len(image_files) >= 6:\n",
    "            leaf_folders.append(root)\n",
    "    return sorted(leaf_folders)\n",
    "\n",
    "# Get iris and finger vein folders\n",
    "iris_folders = get_leaf_folders_with_images(iris_root)\n",
    "fv_folders = sorted([os.path.join(fv_root, f) for f in os.listdir(fv_root)\n",
    "                     if os.path.isdir(os.path.join(fv_root, f))])\n",
    "\n",
    "# Match to the number of finger vein folders\n",
    "target_class_count = min(492, len(iris_folders), len(fv_folders))\n",
    "iris_folders = iris_folders[:target_class_count]\n",
    "fv_folders = fv_folders[:target_class_count]\n",
    "\n",
    "print(f\"✅ Creating {target_class_count} multimodal class folders with 6 images per modality...\")\n",
    "\n",
    "# Process and copy\n",
    "for idx in tqdm(range(target_class_count)):\n",
    "    class_folder = os.path.join(output_root, f\"{idx+1:04d}\")\n",
    "    iris_target = os.path.join(class_folder, 'iris-eye')\n",
    "    fv_target = os.path.join(class_folder, 'finger-vein')\n",
    "    os.makedirs(iris_target, exist_ok=True)\n",
    "    os.makedirs(fv_target, exist_ok=True)\n",
    "\n",
    "    # --- Copy iris images (first 6 only) ---\n",
    "    iris_src = iris_folders[idx]\n",
    "    iris_imgs = sorted([f for f in os.listdir(iris_src)\n",
    "                        if f.lower().endswith(('.jpg', '.jpeg', '.png', '.bmp'))])[:6]\n",
    "    for img in iris_imgs:\n",
    "        shutil.copy(os.path.join(iris_src, img), iris_target)\n",
    "\n",
    "    # --- Copy finger vein images (first 6 only) ---\n",
    "    fv_src = fv_folders[idx]\n",
    "    fv_imgs = sorted([f for f in os.listdir(fv_src)\n",
    "                      if f.lower().endswith(('.jpg', '.jpeg', '.png', '.bmp'))])[:6]\n",
    "    for img in fv_imgs:\n",
    "        shutil.copy(os.path.join(fv_src, img), fv_target)\n",
    "\n",
    "print(f\"\\n✅ Done. Multimodal dataset with 6 images per modality created at: {output_root}\")\n",
    "\n",
    "# Show a few sample folders\n",
    "print(\"\\n📁 Sample class folders created:\")\n",
    "for i in range(min(3, target_class_count)):\n",
    "    print(\" -\", os.path.join(output_root, f\"{i+1:04d}\"))\n"
   ]
  },
  {
   "cell_type": "code",
   "execution_count": null,
   "metadata": {
    "id": "c-pWqSyRzWlm"
   },
   "outputs": [],
   "source": [
    "import os\n",
    "import torch\n",
    "import torch.nn as nn\n",
    "from torch.utils.data import Dataset, DataLoader, random_split\n",
    "from torchvision import transforms\n",
    "from PIL import Image\n",
    "from transformers import ViTFeatureExtractor, ViTModel\n",
    "import timm\n",
    "import numpy as np\n",
    "from sklearn.metrics import accuracy_score, f1_score\n",
    "from tqdm import tqdm"
   ]
  },
  {
   "cell_type": "code",
   "execution_count": null,
   "metadata": {
    "colab": {
     "base_uri": "https://localhost:8080/",
     "height": 1000,
     "referenced_widgets": [
      "7138d7d2a985478f9b61823edc30cdfe",
      "84d6e94192334718a0cff99d49c90026",
      "40e4ee332d704403881d8c9cc2673f8f",
      "68052e74434b4698849017ea2a295d77",
      "17c9f256d3e341d9bb5656111062d746",
      "fe0496cd50da4053bb9f85aeaafe0304",
      "7f4ac2c268234309aa8011f0c1b58beb",
      "9b127b1df6e741fb89922a6206f19e35",
      "29cf1af588c24164b8261af427272e7e",
      "d49a33988baa44fc9e7b12778e73f60f",
      "b38e074d6752427fb1c3278da6c5e458"
     ]
    },
    "executionInfo": {
     "elapsed": 15278231,
     "status": "ok",
     "timestamp": 1748885896164,
     "user": {
      "displayName": "jerrykarunya",
      "userId": "00961226722197498778"
     },
     "user_tz": -330
    },
    "id": "l9OdD5iDzfZU",
    "outputId": "fb9facbc-818d-4f08-bba8-63a703c269b2"
   },
   "outputs": [
    {
     "name": "stderr",
     "output_type": "stream",
     "text": [
      "/usr/local/lib/python3.11/dist-packages/huggingface_hub/utils/_auth.py:94: UserWarning: \n",
      "The secret `HF_TOKEN` does not exist in your Colab secrets.\n",
      "To authenticate with the Hugging Face Hub, create a token in your settings tab (https://huggingface.co/settings/tokens), set it as secret in your Google Colab and restart your session.\n",
      "You will be able to reuse this secret in all of your notebooks.\n",
      "Please note that authentication is recommended but still optional to access public models or datasets.\n",
      "  warnings.warn(\n"
     ]
    },
    {
     "data": {
      "application/vnd.jupyter.widget-view+json": {
       "model_id": "7138d7d2a985478f9b61823edc30cdfe",
       "version_major": 2,
       "version_minor": 0
      },
      "text/plain": [
       "model.safetensors:   0%|          | 0.00/22.9M [00:00<?, ?B/s]"
      ]
     },
     "metadata": {},
     "output_type": "display_data"
    },
    {
     "name": "stderr",
     "output_type": "stream",
     "text": [
      "Epoch 1: 100%|██████████| 74/74 [11:01<00:00,  8.94s/it]\n"
     ]
    },
    {
     "name": "stdout",
     "output_type": "stream",
     "text": [
      "Epoch 1 | Train Acc: 0.0051 | Val Acc: 0.0033\n",
      "✅ Best model saved\n"
     ]
    },
    {
     "name": "stderr",
     "output_type": "stream",
     "text": [
      "Epoch 2: 100%|██████████| 74/74 [10:41<00:00,  8.68s/it]\n"
     ]
    },
    {
     "name": "stdout",
     "output_type": "stream",
     "text": [
      "Epoch 2 | Train Acc: 0.0534 | Val Acc: 0.0428\n",
      "✅ Best model saved\n"
     ]
    },
    {
     "name": "stderr",
     "output_type": "stream",
     "text": [
      "Epoch 3: 100%|██████████| 74/74 [10:49<00:00,  8.78s/it]\n"
     ]
    },
    {
     "name": "stdout",
     "output_type": "stream",
     "text": [
      "Epoch 3 | Train Acc: 0.2742 | Val Acc: 0.1945\n",
      "✅ Best model saved\n"
     ]
    },
    {
     "name": "stderr",
     "output_type": "stream",
     "text": [
      "Epoch 4: 100%|██████████| 74/74 [10:47<00:00,  8.74s/it]\n"
     ]
    },
    {
     "name": "stdout",
     "output_type": "stream",
     "text": [
      "Epoch 4 | Train Acc: 0.6537 | Val Acc: 0.1783\n"
     ]
    },
    {
     "name": "stderr",
     "output_type": "stream",
     "text": [
      "Epoch 5: 100%|██████████| 74/74 [10:42<00:00,  8.68s/it]\n"
     ]
    },
    {
     "name": "stdout",
     "output_type": "stream",
     "text": [
      "Epoch 5 | Train Acc: 0.8789 | Val Acc: 0.6825\n",
      "✅ Best model saved\n"
     ]
    },
    {
     "name": "stderr",
     "output_type": "stream",
     "text": [
      "Epoch 6: 100%|██████████| 74/74 [10:31<00:00,  8.54s/it]\n"
     ]
    },
    {
     "name": "stdout",
     "output_type": "stream",
     "text": [
      "Epoch 6 | Train Acc: 0.9643 | Val Acc: 0.7764\n",
      "✅ Best model saved\n"
     ]
    },
    {
     "name": "stderr",
     "output_type": "stream",
     "text": [
      "Epoch 7: 100%|██████████| 74/74 [10:32<00:00,  8.55s/it]\n"
     ]
    },
    {
     "name": "stdout",
     "output_type": "stream",
     "text": [
      "Epoch 7 | Train Acc: 0.9886 | Val Acc: 0.8610\n",
      "✅ Best model saved\n"
     ]
    },
    {
     "name": "stderr",
     "output_type": "stream",
     "text": [
      "Epoch 8: 100%|██████████| 74/74 [10:38<00:00,  8.63s/it]\n"
     ]
    },
    {
     "name": "stdout",
     "output_type": "stream",
     "text": [
      "Epoch 8 | Train Acc: 0.9983 | Val Acc: 0.8774\n",
      "✅ Best model saved\n"
     ]
    },
    {
     "name": "stderr",
     "output_type": "stream",
     "text": [
      "Epoch 9: 100%|██████████| 74/74 [10:35<00:00,  8.58s/it]\n"
     ]
    },
    {
     "name": "stdout",
     "output_type": "stream",
     "text": [
      "Epoch 9 | Train Acc: 1.0000 | Val Acc: 0.9138\n",
      "✅ Best model saved\n"
     ]
    },
    {
     "name": "stderr",
     "output_type": "stream",
     "text": [
      "Epoch 10: 100%|██████████| 74/74 [10:38<00:00,  8.62s/it]\n"
     ]
    },
    {
     "name": "stdout",
     "output_type": "stream",
     "text": [
      "Epoch 10 | Train Acc: 1.0000 | Val Acc: 0.9368\n",
      "✅ Best model saved\n"
     ]
    },
    {
     "name": "stderr",
     "output_type": "stream",
     "text": [
      "Epoch 11: 100%|██████████| 74/74 [10:31<00:00,  8.54s/it]\n"
     ]
    },
    {
     "name": "stdout",
     "output_type": "stream",
     "text": [
      "Epoch 11 | Train Acc: 1.0000 | Val Acc: 0.9584\n",
      "✅ Best model saved\n"
     ]
    },
    {
     "name": "stderr",
     "output_type": "stream",
     "text": [
      "Epoch 12: 100%|██████████| 74/74 [10:31<00:00,  8.53s/it]\n"
     ]
    },
    {
     "name": "stdout",
     "output_type": "stream",
     "text": [
      "Epoch 12 | Train Acc: 1.0000 | Val Acc: 0.9718\n",
      "✅ Best model saved\n"
     ]
    },
    {
     "name": "stderr",
     "output_type": "stream",
     "text": [
      "Epoch 13: 100%|██████████| 74/74 [10:29<00:00,  8.51s/it]\n"
     ]
    },
    {
     "name": "stdout",
     "output_type": "stream",
     "text": [
      "Epoch 13 | Train Acc: 1.0000 | Val Acc: 0.9683\n"
     ]
    },
    {
     "name": "stderr",
     "output_type": "stream",
     "text": [
      "Epoch 14: 100%|██████████| 74/74 [09:56<00:00,  8.06s/it]\n"
     ]
    },
    {
     "name": "stdout",
     "output_type": "stream",
     "text": [
      "Epoch 14 | Train Acc: 1.0000 | Val Acc: 0.9716\n"
     ]
    },
    {
     "name": "stderr",
     "output_type": "stream",
     "text": [
      "Epoch 15: 100%|██████████| 74/74 [09:40<00:00,  7.84s/it]\n"
     ]
    },
    {
     "name": "stdout",
     "output_type": "stream",
     "text": [
      "Epoch 15 | Train Acc: 1.0000 | Val Acc: 0.9732\n",
      "✅ Best model saved\n"
     ]
    },
    {
     "name": "stderr",
     "output_type": "stream",
     "text": [
      "Epoch 16: 100%|██████████| 74/74 [09:35<00:00,  7.78s/it]\n"
     ]
    },
    {
     "name": "stdout",
     "output_type": "stream",
     "text": [
      "Epoch 16 | Train Acc: 1.0000 | Val Acc: 0.9749\n",
      "✅ Best model saved\n"
     ]
    },
    {
     "name": "stderr",
     "output_type": "stream",
     "text": [
      "Epoch 17: 100%|██████████| 74/74 [09:21<00:00,  7.59s/it]\n"
     ]
    },
    {
     "name": "stdout",
     "output_type": "stream",
     "text": [
      "Epoch 17 | Train Acc: 1.0000 | Val Acc: 0.9800\n",
      "✅ Best model saved\n"
     ]
    },
    {
     "name": "stderr",
     "output_type": "stream",
     "text": [
      "Epoch 18: 100%|██████████| 74/74 [09:21<00:00,  7.58s/it]\n"
     ]
    },
    {
     "name": "stdout",
     "output_type": "stream",
     "text": [
      "Epoch 18 | Train Acc: 1.0000 | Val Acc: 0.9868\n",
      "✅ Best model saved\n"
     ]
    },
    {
     "name": "stderr",
     "output_type": "stream",
     "text": [
      "Epoch 19: 100%|██████████| 74/74 [09:19<00:00,  7.56s/it]\n"
     ]
    },
    {
     "name": "stdout",
     "output_type": "stream",
     "text": [
      "Epoch 19 | Train Acc: 1.0000 | Val Acc: 0.9784\n"
     ]
    },
    {
     "name": "stderr",
     "output_type": "stream",
     "text": [
      "Epoch 20: 100%|██████████| 74/74 [09:19<00:00,  7.56s/it]\n"
     ]
    },
    {
     "name": "stdout",
     "output_type": "stream",
     "text": [
      "Epoch 20 | Train Acc: 1.0000 | Val Acc: 0.9819\n"
     ]
    },
    {
     "name": "stderr",
     "output_type": "stream",
     "text": [
      "Epoch 21: 100%|██████████| 74/74 [09:18<00:00,  7.55s/it]\n"
     ]
    },
    {
     "name": "stdout",
     "output_type": "stream",
     "text": [
      "Epoch 21 | Train Acc: 1.0000 | Val Acc: 0.9800\n"
     ]
    },
    {
     "name": "stderr",
     "output_type": "stream",
     "text": [
      "Epoch 22: 100%|██████████| 74/74 [09:14<00:00,  7.49s/it]\n"
     ]
    },
    {
     "name": "stdout",
     "output_type": "stream",
     "text": [
      "Epoch 22 | Train Acc: 1.0000 | Val Acc: 0.9817\n"
     ]
    },
    {
     "name": "stderr",
     "output_type": "stream",
     "text": [
      "Epoch 23: 100%|██████████| 74/74 [09:15<00:00,  7.51s/it]\n"
     ]
    },
    {
     "name": "stdout",
     "output_type": "stream",
     "text": [
      "Epoch 23 | Train Acc: 1.0000 | Val Acc: 0.9817\n",
      "🛑 Early stopping triggered\n"
     ]
    },
    {
     "name": "stderr",
     "output_type": "stream",
     "text": [
      "<ipython-input-3-a0bcb2e23ca8>:139: FutureWarning: You are using `torch.load` with `weights_only=False` (the current default value), which uses the default pickle module implicitly. It is possible to construct malicious pickle data which will execute arbitrary code during unpickling (See https://github.com/pytorch/pytorch/blob/main/SECURITY.md#untrusted-models for more details). In a future release, the default value for `weights_only` will be flipped to `True`. This limits the functions that could be executed during unpickling. Arbitrary objects will no longer be allowed to be loaded via this mode unless they are explicitly allowlisted by the user via `torch.serialization.add_safe_globals`. We recommend you start setting `weights_only=True` for any use case where you don't have full control of the loaded file. Please open an issue on GitHub for any issues related to this experimental feature.\n",
      "  model.load_state_dict(torch.load('best_model.pt'))\n"
     ]
    },
    {
     "name": "stdout",
     "output_type": "stream",
     "text": [
      "Final Accuracy: 0.9865\n",
      "F1 Score: 0.9784\n"
     ]
    }
   ],
   "source": [
    "IMG_SIZE = 224\n",
    "BATCH_SIZE = 32\n",
    "EPOCHS = 25\n",
    "PATIENCE = 5\n",
    "SEED = 42\n",
    "DATASET_PATH = \"/content/drive/MyDrive/Multimodal Biometric 3\"\n",
    "DEVICE = torch.device(\"cuda\" if torch.cuda.is_available() else \"cpu\")\n",
    "\n",
    "# --- TRANSFORMS ---\n",
    "transform = transforms.Compose([\n",
    "    transforms.Resize((IMG_SIZE, IMG_SIZE)),\n",
    "    transforms.ToTensor(),\n",
    "    transforms.Normalize([0.5]*3, [0.5]*3)\n",
    "])\n",
    "\n",
    "# --- DATASET ---\n",
    "class MultiModalDataset(Dataset):\n",
    "    def __init__(self, root_dir, transform=None):\n",
    "        self.samples = []\n",
    "        self.transform = transform\n",
    "        self.class_to_idx = {}\n",
    "        for idx, class_name in enumerate(sorted(os.listdir(root_dir))):\n",
    "            self.class_to_idx[class_name] = idx\n",
    "            class_path = os.path.join(root_dir, class_name)\n",
    "            iris_dir = os.path.join(class_path, 'iris-eye')\n",
    "            vein_dir = os.path.join(class_path, 'finger-vein')\n",
    "            iris_imgs = sorted(os.listdir(iris_dir))\n",
    "            vein_imgs = sorted(os.listdir(vein_dir))\n",
    "            for i in range(min(len(iris_imgs), len(vein_imgs))):\n",
    "                self.samples.append({\n",
    "                    'iris': os.path.join(iris_dir, iris_imgs[i]),\n",
    "                    'vein': os.path.join(vein_dir, vein_imgs[i]),\n",
    "                    'label': idx\n",
    "                })\n",
    "\n",
    "    def __len__(self):\n",
    "        return len(self.samples)\n",
    "\n",
    "    def __getitem__(self, idx):\n",
    "        sample = self.samples[idx]\n",
    "        iris = Image.open(sample['iris']).convert('RGB')\n",
    "        vein = Image.open(sample['vein']).convert('RGB')\n",
    "        label = sample['label']\n",
    "\n",
    "        if self.transform:\n",
    "            iris = self.transform(iris)\n",
    "            vein = self.transform(vein)\n",
    "\n",
    "        return iris, vein, label\n",
    "\n",
    "# --- LIGHTWEIGHT ViT + SCORE & FEATURE FUSION ---\n",
    "class MultiModalFusionModel(nn.Module):\n",
    "    def __init__(self, num_classes):\n",
    "        super().__init__()\n",
    "        self.iris_model = timm.create_model('vit_tiny_patch16_224', pretrained=True, num_classes=0)\n",
    "        self.vein_model = timm.create_model('vit_tiny_patch16_224', pretrained=True, num_classes=0)\n",
    "\n",
    "        self.feature_fusion = nn.Sequential(\n",
    "            nn.Linear(192 * 2, 512),\n",
    "            nn.ReLU(),\n",
    "            nn.BatchNorm1d(512),\n",
    "            nn.Dropout(0.3),\n",
    "            nn.Linear(512, num_classes)\n",
    "        )\n",
    "\n",
    "    def forward(self, iris, vein):\n",
    "        iris_feat = self.iris_model(iris)\n",
    "        vein_feat = self.vein_model(vein)\n",
    "        fusion_feat = torch.cat((iris_feat, vein_feat), dim=1)\n",
    "        out = self.feature_fusion(fusion_feat)\n",
    "        return out\n",
    "\n",
    "# --- HELPER FUNCTIONS ---\n",
    "def accuracy(outputs, labels):\n",
    "    preds = outputs.argmax(dim=1)\n",
    "    return (preds == labels).float().mean().item()\n",
    "\n",
    "def train_model(model, train_loader, val_loader, device):\n",
    "    optimizer = torch.optim.AdamW(model.parameters(), lr=1e-4)\n",
    "    criterion = nn.CrossEntropyLoss()\n",
    "    scheduler = torch.optim.lr_scheduler.ReduceLROnPlateau(optimizer, 'max', patience=2)\n",
    "\n",
    "    best_val_acc = 0\n",
    "    patience_counter = 0\n",
    "    model.to(device)\n",
    "\n",
    "    for epoch in range(EPOCHS):\n",
    "        model.train()\n",
    "        train_acc, train_loss = 0, 0\n",
    "        for iris, vein, labels in tqdm(train_loader, desc=f\"Epoch {epoch+1}\"):\n",
    "            iris, vein, labels = iris.to(device), vein.to(device), labels.to(device)\n",
    "            optimizer.zero_grad()\n",
    "            outputs = model(iris, vein)\n",
    "            loss = criterion(outputs, labels)\n",
    "            loss.backward()\n",
    "            optimizer.step()\n",
    "            train_acc += accuracy(outputs, labels)\n",
    "            train_loss += loss.item()\n",
    "\n",
    "        model.eval()\n",
    "        val_acc, val_loss = 0, 0\n",
    "        with torch.no_grad():\n",
    "            for iris, vein, labels in val_loader:\n",
    "                iris, vein, labels = iris.to(device), vein.to(device), labels.to(device)\n",
    "                outputs = model(iris, vein)\n",
    "                val_acc += accuracy(outputs, labels)\n",
    "\n",
    "        avg_val_acc = val_acc / len(val_loader)\n",
    "        avg_train_acc = train_acc / len(train_loader)\n",
    "\n",
    "        scheduler.step(avg_val_acc)\n",
    "\n",
    "        print(f\"Epoch {epoch+1} | Train Acc: {avg_train_acc:.4f} | Val Acc: {avg_val_acc:.4f}\")\n",
    "\n",
    "        if avg_val_acc > best_val_acc:\n",
    "            best_val_acc = avg_val_acc\n",
    "            patience_counter = 0\n",
    "            torch.save(model.state_dict(), 'best_model.pt')\n",
    "            print(\"✅ Best model saved\")\n",
    "        else:\n",
    "            patience_counter += 1\n",
    "            if patience_counter >= PATIENCE:\n",
    "                print(\"🛑 Early stopping triggered\")\n",
    "                break\n",
    "\n",
    "# --- LOAD DATASET ---\n",
    "dataset = MultiModalDataset(DATASET_PATH, transform)\n",
    "train_size = int(0.8 * len(dataset))\n",
    "val_size = len(dataset) - train_size\n",
    "train_set, val_set = random_split(dataset, [train_size, val_size])\n",
    "train_loader = DataLoader(train_set, batch_size=BATCH_SIZE, shuffle=True)\n",
    "val_loader = DataLoader(val_set, batch_size=BATCH_SIZE)\n",
    "\n",
    "# --- TRAIN ---\n",
    "model = MultiModalFusionModel(num_classes=len(dataset.class_to_idx))\n",
    "train_model(model, train_loader, val_loader, DEVICE)\n",
    "\n",
    "# --- EVALUATION ---\n",
    "model.load_state_dict(torch.load('best_model.pt'))\n",
    "model.eval()\n",
    "preds, targets = [], []\n",
    "with torch.no_grad():\n",
    "    for iris, vein, labels in val_loader:\n",
    "        iris, vein = iris.to(DEVICE), vein.to(DEVICE)\n",
    "        outputs = model(iris, vein)\n",
    "        preds.extend(outputs.argmax(dim=1).cpu().numpy())\n",
    "        targets.extend(labels.cpu().numpy())\n",
    "\n",
    "print(f\"Final Accuracy: {accuracy_score(targets, preds):.4f}\")\n",
    "print(f\"F1 Score: {f1_score(targets, preds, average='macro'):.4f}\")\n"
   ]
  },
  {
   "cell_type": "code",
   "execution_count": null,
   "metadata": {
    "colab": {
     "base_uri": "https://localhost:8080/",
     "height": 1000
    },
    "collapsed": true,
    "executionInfo": {
     "elapsed": 11220076,
     "status": "error",
     "timestamp": 1748903347719,
     "user": {
      "displayName": "jerrykarunya",
      "userId": "00961226722197498778"
     },
     "user_tz": -330
    },
    "id": "QAn4yONDwECq",
    "outputId": "fe5b111f-7143-4442-b485-eb99800f5bb8"
   },
   "outputs": [
    {
     "name": "stderr",
     "output_type": "stream",
     "text": [
      "Epoch 1: 100%|██████████| 74/74 [09:32<00:00,  7.74s/it]\n"
     ]
    },
    {
     "name": "stdout",
     "output_type": "stream",
     "text": [
      "Epoch 1 | Train Acc: 0.0008 | Val Acc: 0.0000\n"
     ]
    },
    {
     "name": "stderr",
     "output_type": "stream",
     "text": [
      "Epoch 2: 100%|██████████| 74/74 [09:23<00:00,  7.62s/it]\n"
     ]
    },
    {
     "name": "stdout",
     "output_type": "stream",
     "text": [
      "Epoch 2 | Train Acc: 0.0063 | Val Acc: 0.0033\n",
      "✅ Best model saved\n"
     ]
    },
    {
     "name": "stderr",
     "output_type": "stream",
     "text": [
      "Epoch 3: 100%|██████████| 74/74 [09:25<00:00,  7.64s/it]\n"
     ]
    },
    {
     "name": "stdout",
     "output_type": "stream",
     "text": [
      "Epoch 3 | Train Acc: 0.0293 | Val Acc: 0.0298\n",
      "✅ Best model saved\n"
     ]
    },
    {
     "name": "stderr",
     "output_type": "stream",
     "text": [
      "Epoch 4: 100%|██████████| 74/74 [09:24<00:00,  7.63s/it]\n"
     ]
    },
    {
     "name": "stdout",
     "output_type": "stream",
     "text": [
      "Epoch 4 | Train Acc: 0.0817 | Val Acc: 0.0596\n",
      "✅ Best model saved\n"
     ]
    },
    {
     "name": "stderr",
     "output_type": "stream",
     "text": [
      "Epoch 5: 100%|██████████| 74/74 [09:23<00:00,  7.62s/it]\n"
     ]
    },
    {
     "name": "stdout",
     "output_type": "stream",
     "text": [
      "Epoch 5 | Train Acc: 0.1719 | Val Acc: 0.1026\n",
      "✅ Best model saved\n"
     ]
    },
    {
     "name": "stderr",
     "output_type": "stream",
     "text": [
      "Epoch 6: 100%|██████████| 74/74 [09:23<00:00,  7.61s/it]\n"
     ]
    },
    {
     "name": "stdout",
     "output_type": "stream",
     "text": [
      "Epoch 6 | Train Acc: 0.3143 | Val Acc: 0.1902\n",
      "✅ Best model saved\n"
     ]
    },
    {
     "name": "stderr",
     "output_type": "stream",
     "text": [
      "Epoch 7: 100%|██████████| 74/74 [09:23<00:00,  7.62s/it]\n"
     ]
    },
    {
     "name": "stdout",
     "output_type": "stream",
     "text": [
      "Epoch 7 | Train Acc: 0.4807 | Val Acc: 0.2852\n",
      "✅ Best model saved\n"
     ]
    },
    {
     "name": "stderr",
     "output_type": "stream",
     "text": [
      "Epoch 8: 100%|██████████| 74/74 [09:22<00:00,  7.61s/it]\n"
     ]
    },
    {
     "name": "stdout",
     "output_type": "stream",
     "text": [
      "Epoch 8 | Train Acc: 0.5973 | Val Acc: 0.3728\n",
      "✅ Best model saved\n"
     ]
    },
    {
     "name": "stderr",
     "output_type": "stream",
     "text": [
      "Epoch 9: 100%|██████████| 74/74 [09:22<00:00,  7.60s/it]\n"
     ]
    },
    {
     "name": "stdout",
     "output_type": "stream",
     "text": [
      "Epoch 9 | Train Acc: 0.7236 | Val Acc: 0.4111\n",
      "✅ Best model saved\n"
     ]
    },
    {
     "name": "stderr",
     "output_type": "stream",
     "text": [
      "Epoch 10: 100%|██████████| 74/74 [09:22<00:00,  7.61s/it]\n"
     ]
    },
    {
     "name": "stdout",
     "output_type": "stream",
     "text": [
      "Epoch 10 | Train Acc: 0.8147 | Val Acc: 0.4576\n",
      "✅ Best model saved\n"
     ]
    },
    {
     "name": "stderr",
     "output_type": "stream",
     "text": [
      "Epoch 11: 100%|██████████| 74/74 [09:27<00:00,  7.67s/it]\n"
     ]
    },
    {
     "name": "stdout",
     "output_type": "stream",
     "text": [
      "Epoch 11 | Train Acc: 0.8819 | Val Acc: 0.6009\n",
      "✅ Best model saved\n"
     ]
    },
    {
     "name": "stderr",
     "output_type": "stream",
     "text": [
      "Epoch 12: 100%|██████████| 74/74 [09:25<00:00,  7.64s/it]\n"
     ]
    },
    {
     "name": "stdout",
     "output_type": "stream",
     "text": [
      "Epoch 12 | Train Acc: 0.9212 | Val Acc: 0.7148\n",
      "✅ Best model saved\n"
     ]
    },
    {
     "name": "stderr",
     "output_type": "stream",
     "text": [
      "Epoch 13: 100%|██████████| 74/74 [09:24<00:00,  7.63s/it]\n"
     ]
    },
    {
     "name": "stdout",
     "output_type": "stream",
     "text": [
      "Epoch 13 | Train Acc: 0.9522 | Val Acc: 0.7458\n",
      "✅ Best model saved\n"
     ]
    },
    {
     "name": "stderr",
     "output_type": "stream",
     "text": [
      "Epoch 14: 100%|██████████| 74/74 [09:24<00:00,  7.63s/it]\n"
     ]
    },
    {
     "name": "stdout",
     "output_type": "stream",
     "text": [
      "Epoch 14 | Train Acc: 0.9640 | Val Acc: 0.7893\n",
      "✅ Best model saved\n"
     ]
    },
    {
     "name": "stderr",
     "output_type": "stream",
     "text": [
      "Epoch 15: 100%|██████████| 74/74 [09:25<00:00,  7.64s/it]\n"
     ]
    },
    {
     "name": "stdout",
     "output_type": "stream",
     "text": [
      "Epoch 15 | Train Acc: 0.9796 | Val Acc: 0.8565\n",
      "✅ Best model saved\n"
     ]
    },
    {
     "name": "stderr",
     "output_type": "stream",
     "text": [
      "Epoch 16: 100%|██████████| 74/74 [09:28<00:00,  7.68s/it]\n"
     ]
    },
    {
     "name": "stdout",
     "output_type": "stream",
     "text": [
      "Epoch 16 | Train Acc: 0.9856 | Val Acc: 0.8682\n",
      "✅ Best model saved\n"
     ]
    },
    {
     "name": "stderr",
     "output_type": "stream",
     "text": [
      "Epoch 17: 100%|██████████| 74/74 [09:26<00:00,  7.66s/it]\n"
     ]
    },
    {
     "name": "stdout",
     "output_type": "stream",
     "text": [
      "Epoch 17 | Train Acc: 0.9885 | Val Acc: 0.3315\n"
     ]
    },
    {
     "name": "stderr",
     "output_type": "stream",
     "text": [
      "Epoch 18: 100%|██████████| 74/74 [09:30<00:00,  7.71s/it]\n"
     ]
    },
    {
     "name": "stdout",
     "output_type": "stream",
     "text": [
      "Epoch 18 | Train Acc: 0.9932 | Val Acc: 0.9145\n",
      "✅ Best model saved\n"
     ]
    },
    {
     "name": "stderr",
     "output_type": "stream",
     "text": [
      "Epoch 19:  15%|█▍        | 11/74 [01:36<09:13,  8.78s/it]\n"
     ]
    },
    {
     "ename": "KeyboardInterrupt",
     "evalue": "",
     "output_type": "error",
     "traceback": [
      "\u001b[0;31m---------------------------------------------------------------------------\u001b[0m",
      "\u001b[0;31mKeyboardInterrupt\u001b[0m                         Traceback (most recent call last)",
      "\u001b[0;32m<ipython-input-5-ba0edfbd884e>\u001b[0m in \u001b[0;36m<cell line: 0>\u001b[0;34m()\u001b[0m\n\u001b[1;32m    156\u001b[0m \u001b[0;31m# --- TRAIN ---\u001b[0m\u001b[0;34m\u001b[0m\u001b[0;34m\u001b[0m\u001b[0m\n\u001b[1;32m    157\u001b[0m \u001b[0mmodel\u001b[0m \u001b[0;34m=\u001b[0m \u001b[0mMultiModalFusionModel\u001b[0m\u001b[0;34m(\u001b[0m\u001b[0mnum_classes\u001b[0m\u001b[0;34m=\u001b[0m\u001b[0mlen\u001b[0m\u001b[0;34m(\u001b[0m\u001b[0mdataset\u001b[0m\u001b[0;34m.\u001b[0m\u001b[0mclass_to_idx\u001b[0m\u001b[0;34m)\u001b[0m\u001b[0;34m)\u001b[0m\u001b[0;34m\u001b[0m\u001b[0;34m\u001b[0m\u001b[0m\n\u001b[0;32m--> 158\u001b[0;31m \u001b[0mtrain_model\u001b[0m\u001b[0;34m(\u001b[0m\u001b[0mmodel\u001b[0m\u001b[0;34m,\u001b[0m \u001b[0mtrain_loader\u001b[0m\u001b[0;34m,\u001b[0m \u001b[0mval_loader\u001b[0m\u001b[0;34m,\u001b[0m \u001b[0mDEVICE\u001b[0m\u001b[0;34m)\u001b[0m\u001b[0;34m\u001b[0m\u001b[0;34m\u001b[0m\u001b[0m\n\u001b[0m\u001b[1;32m    159\u001b[0m \u001b[0;34m\u001b[0m\u001b[0m\n\u001b[1;32m    160\u001b[0m \u001b[0;31m# --- EVALUATION ---\u001b[0m\u001b[0;34m\u001b[0m\u001b[0;34m\u001b[0m\u001b[0m\n",
      "\u001b[0;32m<ipython-input-5-ba0edfbd884e>\u001b[0m in \u001b[0;36mtrain_model\u001b[0;34m(model, train_loader, val_loader, device)\u001b[0m\n\u001b[1;32m    115\u001b[0m             \u001b[0moutputs\u001b[0m \u001b[0;34m=\u001b[0m \u001b[0mmodel\u001b[0m\u001b[0;34m(\u001b[0m\u001b[0miris\u001b[0m\u001b[0;34m,\u001b[0m \u001b[0mvein\u001b[0m\u001b[0;34m)\u001b[0m\u001b[0;34m\u001b[0m\u001b[0;34m\u001b[0m\u001b[0m\n\u001b[1;32m    116\u001b[0m             \u001b[0mloss\u001b[0m \u001b[0;34m=\u001b[0m \u001b[0mcriterion\u001b[0m\u001b[0;34m(\u001b[0m\u001b[0moutputs\u001b[0m\u001b[0;34m,\u001b[0m \u001b[0mlabels\u001b[0m\u001b[0;34m)\u001b[0m\u001b[0;34m\u001b[0m\u001b[0;34m\u001b[0m\u001b[0m\n\u001b[0;32m--> 117\u001b[0;31m             \u001b[0mloss\u001b[0m\u001b[0;34m.\u001b[0m\u001b[0mbackward\u001b[0m\u001b[0;34m(\u001b[0m\u001b[0;34m)\u001b[0m\u001b[0;34m\u001b[0m\u001b[0;34m\u001b[0m\u001b[0m\n\u001b[0m\u001b[1;32m    118\u001b[0m             \u001b[0moptimizer\u001b[0m\u001b[0;34m.\u001b[0m\u001b[0mstep\u001b[0m\u001b[0;34m(\u001b[0m\u001b[0;34m)\u001b[0m\u001b[0;34m\u001b[0m\u001b[0;34m\u001b[0m\u001b[0m\n\u001b[1;32m    119\u001b[0m             \u001b[0mtrain_acc\u001b[0m \u001b[0;34m+=\u001b[0m \u001b[0maccuracy\u001b[0m\u001b[0;34m(\u001b[0m\u001b[0moutputs\u001b[0m\u001b[0;34m,\u001b[0m \u001b[0mlabels\u001b[0m\u001b[0;34m)\u001b[0m\u001b[0;34m\u001b[0m\u001b[0;34m\u001b[0m\u001b[0m\n",
      "\u001b[0;32m/usr/local/lib/python3.11/dist-packages/torch/_tensor.py\u001b[0m in \u001b[0;36mbackward\u001b[0;34m(self, gradient, retain_graph, create_graph, inputs)\u001b[0m\n\u001b[1;32m    579\u001b[0m                 \u001b[0minputs\u001b[0m\u001b[0;34m=\u001b[0m\u001b[0minputs\u001b[0m\u001b[0;34m,\u001b[0m\u001b[0;34m\u001b[0m\u001b[0;34m\u001b[0m\u001b[0m\n\u001b[1;32m    580\u001b[0m             )\n\u001b[0;32m--> 581\u001b[0;31m         torch.autograd.backward(\n\u001b[0m\u001b[1;32m    582\u001b[0m             \u001b[0mself\u001b[0m\u001b[0;34m,\u001b[0m \u001b[0mgradient\u001b[0m\u001b[0;34m,\u001b[0m \u001b[0mretain_graph\u001b[0m\u001b[0;34m,\u001b[0m \u001b[0mcreate_graph\u001b[0m\u001b[0;34m,\u001b[0m \u001b[0minputs\u001b[0m\u001b[0;34m=\u001b[0m\u001b[0minputs\u001b[0m\u001b[0;34m\u001b[0m\u001b[0;34m\u001b[0m\u001b[0m\n\u001b[1;32m    583\u001b[0m         )\n",
      "\u001b[0;32m/usr/local/lib/python3.11/dist-packages/torch/autograd/__init__.py\u001b[0m in \u001b[0;36mbackward\u001b[0;34m(tensors, grad_tensors, retain_graph, create_graph, grad_variables, inputs)\u001b[0m\n\u001b[1;32m    345\u001b[0m     \u001b[0;31m# some Python versions print out the first line of a multi-line function\u001b[0m\u001b[0;34m\u001b[0m\u001b[0;34m\u001b[0m\u001b[0m\n\u001b[1;32m    346\u001b[0m     \u001b[0;31m# calls in the traceback and some print out the last line\u001b[0m\u001b[0;34m\u001b[0m\u001b[0;34m\u001b[0m\u001b[0m\n\u001b[0;32m--> 347\u001b[0;31m     _engine_run_backward(\n\u001b[0m\u001b[1;32m    348\u001b[0m         \u001b[0mtensors\u001b[0m\u001b[0;34m,\u001b[0m\u001b[0;34m\u001b[0m\u001b[0;34m\u001b[0m\u001b[0m\n\u001b[1;32m    349\u001b[0m         \u001b[0mgrad_tensors_\u001b[0m\u001b[0;34m,\u001b[0m\u001b[0;34m\u001b[0m\u001b[0;34m\u001b[0m\u001b[0m\n",
      "\u001b[0;32m/usr/local/lib/python3.11/dist-packages/torch/autograd/graph.py\u001b[0m in \u001b[0;36m_engine_run_backward\u001b[0;34m(t_outputs, *args, **kwargs)\u001b[0m\n\u001b[1;32m    823\u001b[0m         \u001b[0munregister_hooks\u001b[0m \u001b[0;34m=\u001b[0m \u001b[0m_register_logging_hooks_on_whole_graph\u001b[0m\u001b[0;34m(\u001b[0m\u001b[0mt_outputs\u001b[0m\u001b[0;34m)\u001b[0m\u001b[0;34m\u001b[0m\u001b[0;34m\u001b[0m\u001b[0m\n\u001b[1;32m    824\u001b[0m     \u001b[0;32mtry\u001b[0m\u001b[0;34m:\u001b[0m\u001b[0;34m\u001b[0m\u001b[0;34m\u001b[0m\u001b[0m\n\u001b[0;32m--> 825\u001b[0;31m         return Variable._execution_engine.run_backward(  # Calls into the C++ engine to run the backward pass\n\u001b[0m\u001b[1;32m    826\u001b[0m             \u001b[0mt_outputs\u001b[0m\u001b[0;34m,\u001b[0m \u001b[0;34m*\u001b[0m\u001b[0margs\u001b[0m\u001b[0;34m,\u001b[0m \u001b[0;34m**\u001b[0m\u001b[0mkwargs\u001b[0m\u001b[0;34m\u001b[0m\u001b[0;34m\u001b[0m\u001b[0m\n\u001b[1;32m    827\u001b[0m         )  # Calls into the C++ engine to run the backward pass\n",
      "\u001b[0;31mKeyboardInterrupt\u001b[0m: "
     ]
    }
   ],
   "source": [
    "import os\n",
    "import torch\n",
    "import torch.nn as nn\n",
    "import timm\n",
    "from PIL import Image\n",
    "from tqdm import tqdm\n",
    "from torchvision import transforms\n",
    "from torch.utils.data import Dataset, DataLoader, random_split\n",
    "from sklearn.metrics import accuracy_score, f1_score\n",
    "import numpy as np\n",
    "import random\n",
    "\n",
    "# --- HYPERPARAMETERS ---\n",
    "IMG_SIZE = 224\n",
    "BATCH_SIZE = 32\n",
    "EPOCHS = 30\n",
    "PATIENCE = 5\n",
    "SEED = 42\n",
    "LR = 1e-4\n",
    "DATASET_PATH = \"/content/drive/MyDrive/Multimodal Biometric 3\"\n",
    "DEVICE = torch.device(\"cuda\" if torch.cuda.is_available() else \"cpu\")\n",
    "\n",
    "# --- SEEDING ---\n",
    "torch.manual_seed(SEED)\n",
    "np.random.seed(SEED)\n",
    "random.seed(SEED)\n",
    "torch.backends.cudnn.deterministic = True\n",
    "\n",
    "# --- TRANSFORMS & AUGMENTATION ---\n",
    "transform = transforms.Compose([\n",
    "    transforms.Resize((IMG_SIZE, IMG_SIZE)),\n",
    "    transforms.RandomHorizontalFlip(),\n",
    "    transforms.RandomRotation(10),\n",
    "    transforms.ColorJitter(brightness=0.2, contrast=0.2, saturation=0.2, hue=0.1),\n",
    "    transforms.ToTensor(),\n",
    "    transforms.Normalize([0.5]*3, [0.5]*3)\n",
    "])\n",
    "\n",
    "class MultiModalDataset(Dataset):\n",
    "    def __init__(self, root_dir, transform=None):\n",
    "        self.samples = []\n",
    "        self.transform = transform\n",
    "        self.class_to_idx = {}\n",
    "        for idx, class_name in enumerate(sorted(os.listdir(root_dir))):\n",
    "            self.class_to_idx[class_name] = idx\n",
    "            class_path = os.path.join(root_dir, class_name)\n",
    "            iris_dir = os.path.join(class_path, 'iris-eye')\n",
    "            vein_dir = os.path.join(class_path, 'finger-vein')\n",
    "            iris_imgs = sorted(os.listdir(iris_dir))\n",
    "            vein_imgs = sorted(os.listdir(vein_dir))\n",
    "            for i in range(min(len(iris_imgs), len(vein_imgs))):\n",
    "                self.samples.append({\n",
    "                    'iris': os.path.join(iris_dir, iris_imgs[i]),\n",
    "                    'vein': os.path.join(vein_dir, vein_imgs[i]),\n",
    "                    'label': idx\n",
    "                })\n",
    "\n",
    "    def __len__(self):\n",
    "        return len(self.samples)\n",
    "\n",
    "    def __getitem__(self, idx):\n",
    "        sample = self.samples[idx]\n",
    "        iris = Image.open(sample['iris']).convert('RGB')\n",
    "        vein = Image.open(sample['vein']).convert('RGB')\n",
    "        label = sample['label']\n",
    "\n",
    "        if self.transform:\n",
    "            iris = self.transform(iris)\n",
    "            vein = self.transform(vein)\n",
    "\n",
    "        return iris, vein, label\n",
    "\n",
    "# --- LIGHTWEIGHT ViT + SCORE & FEATURE FUSION ---\n",
    "class MultiModalFusionModel(nn.Module):\n",
    "    def __init__(self, num_classes):\n",
    "        super().__init__()\n",
    "        self.iris_model = timm.create_model('vit_tiny_patch16_224', pretrained=True, num_classes=0)\n",
    "        self.vein_model = timm.create_model('vit_tiny_patch16_224', pretrained=True, num_classes=0)\n",
    "\n",
    "        self.feature_fusion = nn.Sequential(\n",
    "            nn.Linear(192 * 2, 512),\n",
    "            nn.ReLU(),\n",
    "            nn.BatchNorm1d(512),\n",
    "            nn.Dropout(0.3),\n",
    "            nn.Linear(512, num_classes)\n",
    "        )\n",
    "\n",
    "    def forward(self, iris, vein):\n",
    "        iris_feat = self.iris_model(iris)\n",
    "        vein_feat = self.vein_model(vein)\n",
    "        fusion_feat = torch.cat((iris_feat, vein_feat), dim=1)\n",
    "        out = self.feature_fusion(fusion_feat)\n",
    "        return out\n",
    "\n",
    "# --- HELPER FUNCTIONS ---\n",
    "def accuracy(outputs, labels):\n",
    "    preds = outputs.argmax(dim=1)\n",
    "    return (preds == labels).float().mean().item()\n",
    "\n",
    "def train_model(model, train_loader, val_loader, device):\n",
    "    optimizer = torch.optim.AdamW(model.parameters(), lr=1e-4)\n",
    "    criterion = nn.CrossEntropyLoss()\n",
    "    scheduler = torch.optim.lr_scheduler.ReduceLROnPlateau(optimizer, 'max', patience=2)\n",
    "\n",
    "    best_val_acc = 0\n",
    "    patience_counter = 0\n",
    "    model.to(device)\n",
    "\n",
    "    for epoch in range(EPOCHS):\n",
    "        model.train()\n",
    "        train_acc, train_loss = 0, 0\n",
    "        for iris, vein, labels in tqdm(train_loader, desc=f\"Epoch {epoch+1}\"):\n",
    "            iris, vein, labels = iris.to(device), vein.to(device), labels.to(device)\n",
    "            optimizer.zero_grad()\n",
    "            outputs = model(iris, vein)\n",
    "            loss = criterion(outputs, labels)\n",
    "            loss.backward()\n",
    "            optimizer.step()\n",
    "            train_acc += accuracy(outputs, labels)\n",
    "            train_loss += loss.item()\n",
    "\n",
    "        model.eval()\n",
    "        val_acc, val_loss = 0, 0\n",
    "        with torch.no_grad():\n",
    "            for iris, vein, labels in val_loader:\n",
    "                iris, vein, labels = iris.to(device), vein.to(device), labels.to(device)\n",
    "                outputs = model(iris, vein)\n",
    "                val_acc += accuracy(outputs, labels)\n",
    "\n",
    "        avg_val_acc = val_acc / len(val_loader)\n",
    "        avg_train_acc = train_acc / len(train_loader)\n",
    "\n",
    "        scheduler.step(avg_val_acc)\n",
    "\n",
    "        print(f\"Epoch {epoch+1} | Train Acc: {avg_train_acc:.4f} | Val Acc: {avg_val_acc:.4f}\")\n",
    "\n",
    "        if avg_val_acc > best_val_acc:\n",
    "            best_val_acc = avg_val_acc\n",
    "            patience_counter = 0\n",
    "            torch.save(model.state_dict(), 'best_model.pt')\n",
    "            print(\"✅ Best model saved\")\n",
    "        else:\n",
    "            patience_counter += 1\n",
    "            if patience_counter >= PATIENCE:\n",
    "                print(\"🛑 Early stopping triggered\")\n",
    "                break\n",
    "\n",
    "# --- LOAD DATASET ---\n",
    "dataset = MultiModalDataset(DATASET_PATH, transform)\n",
    "train_size = int(0.8 * len(dataset))\n",
    "val_size = len(dataset) - train_size\n",
    "train_set, val_set = random_split(dataset, [train_size, val_size])\n",
    "train_loader = DataLoader(train_set, batch_size=BATCH_SIZE, shuffle=True)\n",
    "val_loader = DataLoader(val_set, batch_size=BATCH_SIZE)\n",
    "\n",
    "# --- TRAIN ---\n",
    "model = MultiModalFusionModel(num_classes=len(dataset.class_to_idx))\n",
    "train_model(model, train_loader, val_loader, DEVICE)\n",
    "\n",
    "# --- EVALUATION ---\n",
    "model.load_state_dict(torch.load('best_model.pt'))\n",
    "model.eval()\n",
    "preds, targets = [], []\n",
    "with torch.no_grad():\n",
    "    for iris, vein, labels in val_loader:\n",
    "        iris, vein = iris.to(DEVICE), vein.to(DEVICE)\n",
    "        outputs = model(iris, vein)\n",
    "        preds.extend(outputs.argmax(dim=1).cpu().numpy())\n",
    "        targets.extend(labels.cpu().numpy())\n",
    "\n",
    "print(f\"Final Accuracy: {accuracy_score(targets, preds):.4f}\")\n",
    "print(f\"F1 Score: {f1_score(targets, preds, average='macro'):.4f}\")\n"
   ]
  },
  {
   "cell_type": "code",
   "execution_count": null,
   "metadata": {
    "id": "YqLA6yKEDMtt"
   },
   "outputs": [],
   "source": [
    "import os\n",
    "import torch\n",
    "import torch.nn as nn\n",
    "from torch.utils.data import Dataset, DataLoader, random_split\n",
    "from torchvision import transforms\n",
    "from PIL import Image\n",
    "from transformers import ViTFeatureExtractor, ViTModel\n",
    "import timm\n",
    "import numpy as np\n",
    "from sklearn.metrics import accuracy_score, f1_score\n",
    "from tqdm import tqdm"
   ]
  },
  {
   "cell_type": "code",
   "execution_count": null,
   "metadata": {
    "colab": {
     "base_uri": "https://localhost:8080/",
     "height": 1000,
     "referenced_widgets": [
      "aa67b61980364879b3a84fa31edd57c1",
      "975bd779326f4533947f938862921050",
      "51abd5703eca4eacb308791b0893be55",
      "d4c04c5f160042fe90d4d7f843863966",
      "a3961f4bd03b428faa03766ec9e28aa0",
      "86ab29457bfd4e2f8f83d74012f7f69c",
      "ff5993437896476988c022c11bc12c29",
      "da1de5093203414fa22b0e92a05f1c46",
      "88398b8ebefc4279be2dee3918d22d51",
      "ed0e5aaac6194b3d9ad011181187b87b",
      "69c30b96c2dc47fe8077d2b40c657cac"
     ]
    },
    "executionInfo": {
     "elapsed": 16721662,
     "status": "ok",
     "timestamp": 1748985173658,
     "user": {
      "displayName": "jerrykarunya",
      "userId": "00961226722197498778"
     },
     "user_tz": -330
    },
    "id": "S7xNfBAJDdcy",
    "outputId": "5af73a57-8625-4381-a1b7-789c0c30bb4f"
   },
   "outputs": [
    {
     "name": "stderr",
     "output_type": "stream",
     "text": [
      "/usr/local/lib/python3.11/dist-packages/huggingface_hub/utils/_auth.py:94: UserWarning: \n",
      "The secret `HF_TOKEN` does not exist in your Colab secrets.\n",
      "To authenticate with the Hugging Face Hub, create a token in your settings tab (https://huggingface.co/settings/tokens), set it as secret in your Google Colab and restart your session.\n",
      "You will be able to reuse this secret in all of your notebooks.\n",
      "Please note that authentication is recommended but still optional to access public models or datasets.\n",
      "  warnings.warn(\n"
     ]
    },
    {
     "data": {
      "application/vnd.jupyter.widget-view+json": {
       "model_id": "aa67b61980364879b3a84fa31edd57c1",
       "version_major": 2,
       "version_minor": 0
      },
      "text/plain": [
       "model.safetensors:   0%|          | 0.00/22.9M [00:00<?, ?B/s]"
      ]
     },
     "metadata": {},
     "output_type": "display_data"
    },
    {
     "name": "stderr",
     "output_type": "stream",
     "text": [
      "Epoch 1: 100%|██████████| 74/74 [41:25<00:00, 33.59s/it]\n"
     ]
    },
    {
     "name": "stdout",
     "output_type": "stream",
     "text": [
      "Epoch 1 | Train Acc: 0.0034 | Val Acc: 0.0033\n",
      "✅ Best model saved\n"
     ]
    },
    {
     "name": "stderr",
     "output_type": "stream",
     "text": [
      "Epoch 2: 100%|██████████| 74/74 [08:58<00:00,  7.28s/it]\n"
     ]
    },
    {
     "name": "stdout",
     "output_type": "stream",
     "text": [
      "Epoch 2 | Train Acc: 0.0086 | Val Acc: 0.0049\n",
      "✅ Best model saved\n"
     ]
    },
    {
     "name": "stderr",
     "output_type": "stream",
     "text": [
      "Epoch 3: 100%|██████████| 74/74 [08:56<00:00,  7.26s/it]\n"
     ]
    },
    {
     "name": "stdout",
     "output_type": "stream",
     "text": [
      "Epoch 3 | Train Acc: 0.0772 | Val Acc: 0.0132\n",
      "✅ Best model saved\n"
     ]
    },
    {
     "name": "stderr",
     "output_type": "stream",
     "text": [
      "Epoch 4: 100%|██████████| 74/74 [08:59<00:00,  7.29s/it]\n"
     ]
    },
    {
     "name": "stdout",
     "output_type": "stream",
     "text": [
      "Epoch 4 | Train Acc: 0.2595 | Val Acc: 0.1522\n",
      "✅ Best model saved\n"
     ]
    },
    {
     "name": "stderr",
     "output_type": "stream",
     "text": [
      "Epoch 5: 100%|██████████| 74/74 [09:00<00:00,  7.30s/it]\n"
     ]
    },
    {
     "name": "stdout",
     "output_type": "stream",
     "text": [
      "Epoch 5 | Train Acc: 0.4710 | Val Acc: 0.4339\n",
      "✅ Best model saved\n"
     ]
    },
    {
     "name": "stderr",
     "output_type": "stream",
     "text": [
      "Epoch 6: 100%|██████████| 74/74 [08:58<00:00,  7.28s/it]\n"
     ]
    },
    {
     "name": "stdout",
     "output_type": "stream",
     "text": [
      "Epoch 6 | Train Acc: 0.6927 | Val Acc: 0.4982\n",
      "✅ Best model saved\n"
     ]
    },
    {
     "name": "stderr",
     "output_type": "stream",
     "text": [
      "Epoch 7: 100%|██████████| 74/74 [08:57<00:00,  7.27s/it]\n"
     ]
    },
    {
     "name": "stdout",
     "output_type": "stream",
     "text": [
      "Epoch 7 | Train Acc: 0.8233 | Val Acc: 0.6765\n",
      "✅ Best model saved\n"
     ]
    },
    {
     "name": "stderr",
     "output_type": "stream",
     "text": [
      "Epoch 8: 100%|██████████| 74/74 [08:57<00:00,  7.27s/it]\n"
     ]
    },
    {
     "name": "stdout",
     "output_type": "stream",
     "text": [
      "Epoch 8 | Train Acc: 0.9099 | Val Acc: 0.7496\n",
      "✅ Best model saved\n"
     ]
    },
    {
     "name": "stderr",
     "output_type": "stream",
     "text": [
      "Epoch 9: 100%|██████████| 74/74 [08:57<00:00,  7.27s/it]\n"
     ]
    },
    {
     "name": "stdout",
     "output_type": "stream",
     "text": [
      "Epoch 9 | Train Acc: 0.9502 | Val Acc: 0.7940\n",
      "✅ Best model saved\n"
     ]
    },
    {
     "name": "stderr",
     "output_type": "stream",
     "text": [
      "Epoch 10: 100%|██████████| 74/74 [08:57<00:00,  7.26s/it]\n"
     ]
    },
    {
     "name": "stdout",
     "output_type": "stream",
     "text": [
      "Epoch 10 | Train Acc: 0.9761 | Val Acc: 0.8649\n",
      "✅ Best model saved\n"
     ]
    },
    {
     "name": "stderr",
     "output_type": "stream",
     "text": [
      "Epoch 11: 100%|██████████| 74/74 [08:57<00:00,  7.27s/it]\n"
     ]
    },
    {
     "name": "stdout",
     "output_type": "stream",
     "text": [
      "Epoch 11 | Train Acc: 0.9911 | Val Acc: 0.8830\n",
      "✅ Best model saved\n"
     ]
    },
    {
     "name": "stderr",
     "output_type": "stream",
     "text": [
      "Epoch 12: 100%|██████████| 74/74 [08:57<00:00,  7.27s/it]\n"
     ]
    },
    {
     "name": "stdout",
     "output_type": "stream",
     "text": [
      "Epoch 12 | Train Acc: 0.9975 | Val Acc: 0.9375\n",
      "✅ Best model saved\n"
     ]
    },
    {
     "name": "stderr",
     "output_type": "stream",
     "text": [
      "Epoch 13: 100%|██████████| 74/74 [08:57<00:00,  7.27s/it]\n"
     ]
    },
    {
     "name": "stdout",
     "output_type": "stream",
     "text": [
      "Epoch 13 | Train Acc: 0.9987 | Val Acc: 0.9572\n",
      "✅ Best model saved\n"
     ]
    },
    {
     "name": "stderr",
     "output_type": "stream",
     "text": [
      "Epoch 14: 100%|██████████| 74/74 [08:59<00:00,  7.29s/it]\n"
     ]
    },
    {
     "name": "stdout",
     "output_type": "stream",
     "text": [
      "Epoch 14 | Train Acc: 0.9983 | Val Acc: 0.9589\n",
      "✅ Best model saved\n"
     ]
    },
    {
     "name": "stderr",
     "output_type": "stream",
     "text": [
      "Epoch 15: 100%|██████████| 74/74 [08:58<00:00,  7.28s/it]\n"
     ]
    },
    {
     "name": "stdout",
     "output_type": "stream",
     "text": [
      "Epoch 15 | Train Acc: 1.0000 | Val Acc: 0.9688\n",
      "✅ Best model saved\n"
     ]
    },
    {
     "name": "stderr",
     "output_type": "stream",
     "text": [
      "Epoch 16: 100%|██████████| 74/74 [09:01<00:00,  7.32s/it]\n"
     ]
    },
    {
     "name": "stdout",
     "output_type": "stream",
     "text": [
      "Epoch 16 | Train Acc: 1.0000 | Val Acc: 0.9836\n",
      "✅ Best model saved\n"
     ]
    },
    {
     "name": "stderr",
     "output_type": "stream",
     "text": [
      "Epoch 17: 100%|██████████| 74/74 [09:01<00:00,  7.32s/it]\n"
     ]
    },
    {
     "name": "stdout",
     "output_type": "stream",
     "text": [
      "Epoch 17 | Train Acc: 1.0000 | Val Acc: 0.9868\n",
      "✅ Best model saved\n"
     ]
    },
    {
     "name": "stderr",
     "output_type": "stream",
     "text": [
      "Epoch 18: 100%|██████████| 74/74 [09:03<00:00,  7.34s/it]\n"
     ]
    },
    {
     "name": "stdout",
     "output_type": "stream",
     "text": [
      "Epoch 18 | Train Acc: 1.0000 | Val Acc: 0.9901\n",
      "✅ Best model saved\n"
     ]
    },
    {
     "name": "stderr",
     "output_type": "stream",
     "text": [
      "Epoch 19: 100%|██████████| 74/74 [08:58<00:00,  7.27s/it]\n"
     ]
    },
    {
     "name": "stdout",
     "output_type": "stream",
     "text": [
      "Epoch 19 | Train Acc: 1.0000 | Val Acc: 0.9934\n",
      "✅ Best model saved\n"
     ]
    },
    {
     "name": "stderr",
     "output_type": "stream",
     "text": [
      "Epoch 20: 100%|██████████| 74/74 [08:56<00:00,  7.25s/it]\n"
     ]
    },
    {
     "name": "stdout",
     "output_type": "stream",
     "text": [
      "Epoch 20 | Train Acc: 1.0000 | Val Acc: 0.9852\n"
     ]
    },
    {
     "name": "stderr",
     "output_type": "stream",
     "text": [
      "Epoch 21: 100%|██████████| 74/74 [09:18<00:00,  7.55s/it]\n"
     ]
    },
    {
     "name": "stdout",
     "output_type": "stream",
     "text": [
      "Epoch 21 | Train Acc: 1.0000 | Val Acc: 0.9885\n"
     ]
    },
    {
     "name": "stderr",
     "output_type": "stream",
     "text": [
      "Epoch 22: 100%|██████████| 74/74 [08:54<00:00,  7.22s/it]\n"
     ]
    },
    {
     "name": "stdout",
     "output_type": "stream",
     "text": [
      "Epoch 22 | Train Acc: 1.0000 | Val Acc: 0.9885\n"
     ]
    },
    {
     "name": "stderr",
     "output_type": "stream",
     "text": [
      "Epoch 23: 100%|██████████| 74/74 [08:55<00:00,  7.24s/it]\n"
     ]
    },
    {
     "name": "stdout",
     "output_type": "stream",
     "text": [
      "Epoch 23 | Train Acc: 1.0000 | Val Acc: 0.9934\n"
     ]
    },
    {
     "name": "stderr",
     "output_type": "stream",
     "text": [
      "Epoch 24: 100%|██████████| 74/74 [08:56<00:00,  7.25s/it]\n"
     ]
    },
    {
     "name": "stdout",
     "output_type": "stream",
     "text": [
      "Epoch 24 | Train Acc: 1.0000 | Val Acc: 0.9934\n",
      "🛑 Early stopping triggered\n",
      "Final Accuracy: 0.9932\n",
      "F1 Score: 0.9846\n"
     ]
    }
   ],
   "source": [
    "IMG_SIZE = 224\n",
    "BATCH_SIZE = 32\n",
    "EPOCHS = 30\n",
    "PATIENCE = 5\n",
    "SEED = 42\n",
    "DATASET_PATH = \"/content/drive/MyDrive/Multimodal Biometric 3\"\n",
    "DEVICE = torch.device(\"cuda\" if torch.cuda.is_available() else \"cpu\")\n",
    "\n",
    "# --- TRANSFORMS ---\n",
    "transform = transforms.Compose([\n",
    "    transforms.Resize((IMG_SIZE, IMG_SIZE)),\n",
    "    transforms.ToTensor(),\n",
    "    transforms.Normalize([0.5]*3, [0.5]*3)\n",
    "])\n",
    "\n",
    "# --- DATASET ---\n",
    "class MultiModalDataset(Dataset):\n",
    "    def __init__(self, root_dir, transform=None):\n",
    "        self.samples = []\n",
    "        self.transform = transform\n",
    "        self.class_to_idx = {}\n",
    "        for idx, class_name in enumerate(sorted(os.listdir(root_dir))):\n",
    "            self.class_to_idx[class_name] = idx\n",
    "            class_path = os.path.join(root_dir, class_name)\n",
    "            iris_dir = os.path.join(class_path, 'iris-eye')\n",
    "            vein_dir = os.path.join(class_path, 'finger-vein')\n",
    "            iris_imgs = sorted(os.listdir(iris_dir))\n",
    "            vein_imgs = sorted(os.listdir(vein_dir))\n",
    "            for i in range(min(len(iris_imgs), len(vein_imgs))):\n",
    "                self.samples.append({\n",
    "                    'iris': os.path.join(iris_dir, iris_imgs[i]),\n",
    "                    'vein': os.path.join(vein_dir, vein_imgs[i]),\n",
    "                    'label': idx\n",
    "                })\n",
    "\n",
    "    def __len__(self):\n",
    "        return len(self.samples)\n",
    "\n",
    "    def __getitem__(self, idx):\n",
    "        sample = self.samples[idx]\n",
    "        iris = Image.open(sample['iris']).convert('RGB')\n",
    "        vein = Image.open(sample['vein']).convert('RGB')\n",
    "        label = sample['label']\n",
    "\n",
    "        if self.transform:\n",
    "            iris = self.transform(iris)\n",
    "            vein = self.transform(vein)\n",
    "\n",
    "        return iris, vein, label\n",
    "\n",
    "# --- LIGHTWEIGHT ViT + SCORE & FEATURE FUSION ---\n",
    "class MultiModalFusionModel(nn.Module):\n",
    "    def __init__(self, num_classes):\n",
    "        super().__init__()\n",
    "        self.iris_model = timm.create_model('vit_tiny_patch16_224', pretrained=True, num_classes=0)\n",
    "        self.vein_model = timm.create_model('vit_tiny_patch16_224', pretrained=True, num_classes=0)\n",
    "\n",
    "        self.feature_fusion = nn.Sequential(\n",
    "            nn.Linear(192 * 2, 1024),  # Increase dimension\n",
    "            nn.ReLU(),\n",
    "            nn.BatchNorm1d(1024),\n",
    "            nn.Dropout(0.3),\n",
    "            nn.Linear(1024, 512),  # Intermediate layer\n",
    "            nn.ReLU(),\n",
    "            nn.BatchNorm1d(512),\n",
    "            nn.Dropout(0.3),\n",
    "            nn.Linear(512, num_classes)\n",
    ")\n",
    "\n",
    "    def forward(self, iris, vein):\n",
    "        iris_feat = self.iris_model(iris)\n",
    "        vein_feat = self.vein_model(vein)\n",
    "        fusion_feat = torch.cat((iris_feat, vein_feat), dim=1)\n",
    "        out = self.feature_fusion(fusion_feat)\n",
    "        return out\n",
    "\n",
    "# --- HELPER FUNCTIONS ---\n",
    "def accuracy(outputs, labels):\n",
    "    preds = outputs.argmax(dim=1)\n",
    "    return (preds == labels).float().mean().item()\n",
    "\n",
    "def train_model(model, train_loader, val_loader, device):\n",
    "    optimizer = torch.optim.AdamW(model.parameters(), lr=1e-4)\n",
    "    criterion = nn.CrossEntropyLoss()\n",
    "    scheduler = torch.optim.lr_scheduler.ReduceLROnPlateau(optimizer, 'max', patience=2)\n",
    "\n",
    "    best_val_acc = 0\n",
    "    patience_counter = 0\n",
    "    model.to(device)\n",
    "\n",
    "    for epoch in range(EPOCHS):\n",
    "        model.train()\n",
    "        train_acc, train_loss = 0, 0\n",
    "        for iris, vein, labels in tqdm(train_loader, desc=f\"Epoch {epoch+1}\"):\n",
    "            iris, vein, labels = iris.to(device), vein.to(device), labels.to(device)\n",
    "            optimizer.zero_grad()\n",
    "            outputs = model(iris, vein)\n",
    "            loss = criterion(outputs, labels)\n",
    "            loss.backward()\n",
    "            optimizer.step()\n",
    "            train_acc += accuracy(outputs, labels)\n",
    "            train_loss += loss.item()\n",
    "\n",
    "        model.eval()\n",
    "        val_acc, val_loss = 0, 0\n",
    "        with torch.no_grad():\n",
    "            for iris, vein, labels in val_loader:\n",
    "                iris, vein, labels = iris.to(device), vein.to(device), labels.to(device)\n",
    "                outputs = model(iris, vein)\n",
    "                val_acc += accuracy(outputs, labels)\n",
    "\n",
    "        avg_val_acc = val_acc / len(val_loader)\n",
    "        avg_train_acc = train_acc / len(train_loader)\n",
    "\n",
    "        scheduler.step(avg_val_acc)\n",
    "\n",
    "        print(f\"Epoch {epoch+1} | Train Acc: {avg_train_acc:.4f} | Val Acc: {avg_val_acc:.4f}\")\n",
    "\n",
    "        if avg_val_acc > best_val_acc:\n",
    "            best_val_acc = avg_val_acc\n",
    "            patience_counter = 0\n",
    "            torch.save(model.state_dict(), 'best_model.pt')\n",
    "            print(\"✅ Best model saved\")\n",
    "        else:\n",
    "            patience_counter += 1\n",
    "            if patience_counter >= PATIENCE:\n",
    "                print(\"🛑 Early stopping triggered\")\n",
    "                break\n",
    "\n",
    "# --- LOAD DATASET ---\n",
    "dataset = MultiModalDataset(DATASET_PATH, transform)\n",
    "train_size = int(0.8 * len(dataset))\n",
    "val_size = len(dataset) - train_size\n",
    "train_set, val_set = random_split(dataset, [train_size, val_size])\n",
    "train_loader = DataLoader(train_set, batch_size=BATCH_SIZE, shuffle=True)\n",
    "val_loader = DataLoader(val_set, batch_size=BATCH_SIZE)\n",
    "\n",
    "# --- TRAIN ---\n",
    "model = MultiModalFusionModel(num_classes=len(dataset.class_to_idx))\n",
    "train_model(model, train_loader, val_loader, DEVICE)\n",
    "\n",
    "# --- EVALUATION ---\n",
    "model.load_state_dict(torch.load('best_model.pt'))\n",
    "model.eval()\n",
    "preds, targets = [], []\n",
    "with torch.no_grad():\n",
    "    for iris, vein, labels in val_loader:\n",
    "        iris, vein = iris.to(DEVICE), vein.to(DEVICE)\n",
    "        outputs = model(iris, vein)\n",
    "        preds.extend(outputs.argmax(dim=1).cpu().numpy())\n",
    "        targets.extend(labels.cpu().numpy())\n",
    "\n",
    "print(f\"Final Accuracy: {accuracy_score(targets, preds):.4f}\")\n",
    "print(f\"F1 Score: {f1_score(targets, preds, average='macro'):.4f}\")\n"
   ]
  },
  {
   "cell_type": "code",
   "execution_count": null,
   "metadata": {
    "id": "b3hoUv5ypeo7"
   },
   "outputs": [],
   "source": [
    "from sklearn.metrics import precision_score, recall_score, f1_score, accuracy_score, confusion_matrix, classification_report\n",
    "import matplotlib.pyplot as plt\n",
    "import seaborn as sns\n"
   ]
  },
  {
   "cell_type": "code",
   "execution_count": null,
   "metadata": {
    "colab": {
     "base_uri": "https://localhost:8080/",
     "height": 1000
    },
    "executionInfo": {
     "elapsed": 202860,
     "status": "ok",
     "timestamp": 1748985556329,
     "user": {
      "displayName": "jerrykarunya",
      "userId": "00961226722197498778"
     },
     "user_tz": -330
    },
    "id": "qTlL-XMDplwB",
    "outputId": "36e9e6ef-5e2a-4055-d4c9-949a8602b8fe"
   },
   "outputs": [
    {
     "name": "stdout",
     "output_type": "stream",
     "text": [
      "\n",
      "🔍 Evaluation Metrics\n",
      "Accuracy  : 0.9932\n",
      "Precision : 0.9864\n",
      "Recall    : 0.9837\n",
      "F1 Score  : 0.9846\n",
      "\n",
      "📊 Classification Report:\n",
      "              precision    recall  f1-score   support\n",
      "\n",
      "           0     1.0000    1.0000    1.0000         2\n",
      "           1     1.0000    1.0000    1.0000         1\n",
      "           2     1.0000    1.0000    1.0000         4\n",
      "           4     1.0000    1.0000    1.0000         2\n",
      "           6     1.0000    1.0000    1.0000         2\n",
      "           7     1.0000    1.0000    1.0000         1\n",
      "           8     1.0000    1.0000    1.0000         2\n",
      "           9     1.0000    1.0000    1.0000         2\n",
      "          10     1.0000    1.0000    1.0000         3\n",
      "          11     1.0000    1.0000    1.0000         1\n",
      "          12     1.0000    1.0000    1.0000         1\n",
      "          13     1.0000    1.0000    1.0000         1\n",
      "          14     1.0000    1.0000    1.0000         3\n",
      "          15     1.0000    1.0000    1.0000         2\n",
      "          16     1.0000    1.0000    1.0000         1\n",
      "          17     1.0000    1.0000    1.0000         2\n",
      "          18     1.0000    1.0000    1.0000         1\n",
      "          19     1.0000    1.0000    1.0000         2\n",
      "          21     1.0000    1.0000    1.0000         2\n",
      "          22     1.0000    1.0000    1.0000         1\n",
      "          23     1.0000    1.0000    1.0000         2\n",
      "          24     1.0000    1.0000    1.0000         2\n",
      "          25     1.0000    1.0000    1.0000         2\n",
      "          28     1.0000    1.0000    1.0000         1\n",
      "          30     1.0000    1.0000    1.0000         3\n",
      "          34     1.0000    1.0000    1.0000         2\n",
      "          35     1.0000    1.0000    1.0000         1\n",
      "          39     1.0000    1.0000    1.0000         1\n",
      "          40     1.0000    1.0000    1.0000         1\n",
      "          41     1.0000    1.0000    1.0000         1\n",
      "          42     1.0000    1.0000    1.0000         1\n",
      "          43     1.0000    1.0000    1.0000         1\n",
      "          44     1.0000    1.0000    1.0000         1\n",
      "          45     1.0000    1.0000    1.0000         1\n",
      "          46     1.0000    1.0000    1.0000         1\n",
      "          48     1.0000    1.0000    1.0000         1\n",
      "          49     1.0000    1.0000    1.0000         2\n",
      "          50     1.0000    1.0000    1.0000         1\n",
      "          51     1.0000    1.0000    1.0000         2\n",
      "          52     0.0000    0.0000    0.0000         0\n",
      "          53     1.0000    1.0000    1.0000         2\n",
      "          54     1.0000    1.0000    1.0000         1\n",
      "          55     1.0000    1.0000    1.0000         1\n",
      "          56     1.0000    1.0000    1.0000         2\n",
      "          60     1.0000    1.0000    1.0000         1\n",
      "          61     1.0000    1.0000    1.0000         2\n",
      "          62     1.0000    1.0000    1.0000         1\n",
      "          63     0.0000    0.0000    0.0000         0\n",
      "          64     1.0000    1.0000    1.0000         1\n",
      "          65     1.0000    1.0000    1.0000         1\n",
      "          66     1.0000    1.0000    1.0000         1\n",
      "          67     1.0000    1.0000    1.0000         2\n",
      "          68     1.0000    1.0000    1.0000         1\n",
      "          70     1.0000    0.5000    0.6667         2\n",
      "          71     0.0000    0.0000    0.0000         0\n",
      "          72     1.0000    1.0000    1.0000         1\n",
      "          73     1.0000    1.0000    1.0000         1\n",
      "          75     1.0000    1.0000    1.0000         1\n",
      "          76     1.0000    1.0000    1.0000         1\n",
      "          77     1.0000    1.0000    1.0000         1\n",
      "          80     1.0000    1.0000    1.0000         1\n",
      "          82     1.0000    1.0000    1.0000         1\n",
      "          83     1.0000    1.0000    1.0000         1\n",
      "          85     1.0000    1.0000    1.0000         1\n",
      "          86     1.0000    1.0000    1.0000         2\n",
      "          87     1.0000    1.0000    1.0000         2\n",
      "          88     1.0000    1.0000    1.0000         1\n",
      "          89     1.0000    1.0000    1.0000         1\n",
      "          90     1.0000    1.0000    1.0000         1\n",
      "          91     1.0000    1.0000    1.0000         1\n",
      "          92     1.0000    1.0000    1.0000         2\n",
      "          96     1.0000    1.0000    1.0000         3\n",
      "          97     1.0000    1.0000    1.0000         3\n",
      "          99     1.0000    1.0000    1.0000         2\n",
      "         100     1.0000    1.0000    1.0000         1\n",
      "         102     1.0000    1.0000    1.0000         1\n",
      "         103     1.0000    1.0000    1.0000         1\n",
      "         104     1.0000    1.0000    1.0000         2\n",
      "         105     1.0000    1.0000    1.0000         1\n",
      "         106     1.0000    1.0000    1.0000         2\n",
      "         107     1.0000    1.0000    1.0000         1\n",
      "         108     1.0000    1.0000    1.0000         2\n",
      "         110     1.0000    1.0000    1.0000         2\n",
      "         112     1.0000    1.0000    1.0000         2\n",
      "         114     1.0000    1.0000    1.0000         1\n",
      "         116     1.0000    1.0000    1.0000         2\n",
      "         117     1.0000    1.0000    1.0000         1\n",
      "         118     1.0000    1.0000    1.0000         1\n",
      "         119     1.0000    1.0000    1.0000         2\n",
      "         120     1.0000    1.0000    1.0000         2\n",
      "         121     1.0000    1.0000    1.0000         1\n",
      "         122     1.0000    1.0000    1.0000         2\n",
      "         123     1.0000    1.0000    1.0000         3\n",
      "         124     1.0000    1.0000    1.0000         1\n",
      "         126     1.0000    1.0000    1.0000         3\n",
      "         127     1.0000    1.0000    1.0000         4\n",
      "         128     1.0000    1.0000    1.0000         1\n",
      "         129     1.0000    1.0000    1.0000         2\n",
      "         130     1.0000    1.0000    1.0000         2\n",
      "         133     1.0000    1.0000    1.0000         1\n",
      "         134     1.0000    1.0000    1.0000         1\n",
      "         135     1.0000    1.0000    1.0000         2\n",
      "         136     1.0000    1.0000    1.0000         1\n",
      "         137     1.0000    1.0000    1.0000         1\n",
      "         139     1.0000    1.0000    1.0000         1\n",
      "         140     1.0000    1.0000    1.0000         1\n",
      "         141     1.0000    1.0000    1.0000         3\n",
      "         142     1.0000    1.0000    1.0000         2\n",
      "         143     1.0000    1.0000    1.0000         1\n",
      "         146     1.0000    1.0000    1.0000         2\n",
      "         148     1.0000    1.0000    1.0000         3\n",
      "         151     1.0000    1.0000    1.0000         1\n",
      "         153     1.0000    1.0000    1.0000         1\n",
      "         155     1.0000    1.0000    1.0000         1\n",
      "         156     1.0000    1.0000    1.0000         3\n",
      "         157     1.0000    1.0000    1.0000         2\n",
      "         158     1.0000    1.0000    1.0000         2\n",
      "         159     1.0000    1.0000    1.0000         1\n",
      "         160     1.0000    1.0000    1.0000         1\n",
      "         162     1.0000    1.0000    1.0000         2\n",
      "         163     1.0000    1.0000    1.0000         2\n",
      "         164     1.0000    1.0000    1.0000         1\n",
      "         167     1.0000    1.0000    1.0000         3\n",
      "         168     1.0000    1.0000    1.0000         3\n",
      "         169     1.0000    1.0000    1.0000         2\n",
      "         170     1.0000    1.0000    1.0000         3\n",
      "         171     1.0000    1.0000    1.0000         2\n",
      "         172     1.0000    1.0000    1.0000         1\n",
      "         173     1.0000    1.0000    1.0000         1\n",
      "         174     1.0000    1.0000    1.0000         3\n",
      "         176     1.0000    1.0000    1.0000         2\n",
      "         177     1.0000    1.0000    1.0000         2\n",
      "         178     1.0000    1.0000    1.0000         1\n",
      "         179     1.0000    1.0000    1.0000         2\n",
      "         180     1.0000    1.0000    1.0000         3\n",
      "         181     1.0000    1.0000    1.0000         1\n",
      "         182     1.0000    1.0000    1.0000         3\n",
      "         183     1.0000    1.0000    1.0000         2\n",
      "         184     1.0000    1.0000    1.0000         1\n",
      "         186     1.0000    1.0000    1.0000         2\n",
      "         188     1.0000    1.0000    1.0000         1\n",
      "         189     1.0000    1.0000    1.0000         2\n",
      "         190     1.0000    1.0000    1.0000         2\n",
      "         191     1.0000    1.0000    1.0000         1\n",
      "         192     1.0000    1.0000    1.0000         1\n",
      "         194     1.0000    1.0000    1.0000         1\n",
      "         195     1.0000    1.0000    1.0000         1\n",
      "         196     1.0000    1.0000    1.0000         3\n",
      "         197     1.0000    1.0000    1.0000         1\n",
      "         198     1.0000    1.0000    1.0000         1\n",
      "         201     1.0000    1.0000    1.0000         1\n",
      "         202     1.0000    1.0000    1.0000         2\n",
      "         203     1.0000    1.0000    1.0000         3\n",
      "         205     1.0000    1.0000    1.0000         1\n",
      "         206     1.0000    1.0000    1.0000         1\n",
      "         208     1.0000    1.0000    1.0000         1\n",
      "         209     1.0000    1.0000    1.0000         2\n",
      "         210     1.0000    1.0000    1.0000         2\n",
      "         212     1.0000    1.0000    1.0000         2\n",
      "         213     1.0000    1.0000    1.0000         3\n",
      "         214     1.0000    1.0000    1.0000         3\n",
      "         216     1.0000    1.0000    1.0000         3\n",
      "         217     1.0000    1.0000    1.0000         2\n",
      "         220     1.0000    1.0000    1.0000         2\n",
      "         221     1.0000    1.0000    1.0000         1\n",
      "         222     1.0000    1.0000    1.0000         1\n",
      "         224     1.0000    1.0000    1.0000         1\n",
      "         225     1.0000    1.0000    1.0000         1\n",
      "         226     1.0000    1.0000    1.0000         2\n",
      "         227     1.0000    1.0000    1.0000         2\n",
      "         231     1.0000    1.0000    1.0000         1\n",
      "         232     1.0000    1.0000    1.0000         3\n",
      "         233     1.0000    1.0000    1.0000         1\n",
      "         234     1.0000    1.0000    1.0000         2\n",
      "         235     1.0000    1.0000    1.0000         1\n",
      "         236     1.0000    1.0000    1.0000         1\n",
      "         237     1.0000    1.0000    1.0000         2\n",
      "         238     1.0000    1.0000    1.0000         2\n",
      "         239     1.0000    1.0000    1.0000         1\n",
      "         240     1.0000    1.0000    1.0000         2\n",
      "         241     1.0000    1.0000    1.0000         2\n",
      "         242     1.0000    1.0000    1.0000         4\n",
      "         244     1.0000    1.0000    1.0000         1\n",
      "         245     1.0000    1.0000    1.0000         2\n",
      "         246     1.0000    1.0000    1.0000         2\n",
      "         247     1.0000    1.0000    1.0000         1\n",
      "         248     1.0000    1.0000    1.0000         1\n",
      "         249     1.0000    1.0000    1.0000         1\n",
      "         250     1.0000    1.0000    1.0000         2\n",
      "         251     0.0000    0.0000    0.0000         2\n",
      "         252     1.0000    1.0000    1.0000         2\n",
      "         253     1.0000    1.0000    1.0000         2\n",
      "         254     1.0000    1.0000    1.0000         1\n",
      "         255     1.0000    1.0000    1.0000         2\n",
      "         256     1.0000    1.0000    1.0000         1\n",
      "         257     1.0000    1.0000    1.0000         2\n",
      "         260     1.0000    1.0000    1.0000         1\n",
      "         261     1.0000    1.0000    1.0000         1\n",
      "         262     1.0000    1.0000    1.0000         1\n",
      "         263     1.0000    1.0000    1.0000         4\n",
      "         264     1.0000    1.0000    1.0000         2\n",
      "         265     1.0000    1.0000    1.0000         1\n",
      "         269     1.0000    1.0000    1.0000         2\n",
      "         270     1.0000    1.0000    1.0000         1\n",
      "         271     1.0000    1.0000    1.0000         1\n",
      "         272     1.0000    1.0000    1.0000         3\n",
      "         273     1.0000    1.0000    1.0000         3\n",
      "         275     1.0000    1.0000    1.0000         1\n",
      "         276     1.0000    1.0000    1.0000         1\n",
      "         278     1.0000    1.0000    1.0000         2\n",
      "         279     1.0000    1.0000    1.0000         1\n",
      "         280     1.0000    1.0000    1.0000         1\n",
      "         281     1.0000    1.0000    1.0000         3\n",
      "         283     1.0000    1.0000    1.0000         2\n",
      "         285     1.0000    1.0000    1.0000         3\n",
      "         286     1.0000    1.0000    1.0000         2\n",
      "         287     1.0000    1.0000    1.0000         1\n",
      "         288     1.0000    1.0000    1.0000         2\n",
      "         289     1.0000    1.0000    1.0000         1\n",
      "         290     1.0000    1.0000    1.0000         1\n",
      "         291     1.0000    1.0000    1.0000         2\n",
      "         292     1.0000    1.0000    1.0000         2\n",
      "         293     1.0000    1.0000    1.0000         1\n",
      "         294     1.0000    1.0000    1.0000         1\n",
      "         295     1.0000    1.0000    1.0000         1\n",
      "         296     1.0000    1.0000    1.0000         2\n",
      "         297     1.0000    1.0000    1.0000         2\n",
      "         298     1.0000    1.0000    1.0000         1\n",
      "         299     1.0000    1.0000    1.0000         2\n",
      "         300     1.0000    1.0000    1.0000         1\n",
      "         301     1.0000    1.0000    1.0000         2\n",
      "         302     1.0000    1.0000    1.0000         1\n",
      "         303     1.0000    1.0000    1.0000         1\n",
      "         306     1.0000    1.0000    1.0000         3\n",
      "         307     1.0000    1.0000    1.0000         1\n",
      "         309     1.0000    1.0000    1.0000         2\n",
      "         312     1.0000    1.0000    1.0000         1\n",
      "         316     1.0000    1.0000    1.0000         2\n",
      "         317     1.0000    1.0000    1.0000         2\n",
      "         319     1.0000    1.0000    1.0000         3\n",
      "         320     1.0000    1.0000    1.0000         2\n",
      "         321     1.0000    1.0000    1.0000         2\n",
      "         322     1.0000    1.0000    1.0000         1\n",
      "         323     1.0000    1.0000    1.0000         1\n",
      "         324     1.0000    1.0000    1.0000         2\n",
      "         325     1.0000    1.0000    1.0000         1\n",
      "         328     1.0000    1.0000    1.0000         1\n",
      "         329     1.0000    1.0000    1.0000         1\n",
      "         331     1.0000    1.0000    1.0000         2\n",
      "         332     1.0000    1.0000    1.0000         3\n",
      "         334     1.0000    1.0000    1.0000         2\n",
      "         335     1.0000    1.0000    1.0000         1\n",
      "         336     1.0000    1.0000    1.0000         2\n",
      "         337     1.0000    1.0000    1.0000         1\n",
      "         338     1.0000    1.0000    1.0000         1\n",
      "         340     1.0000    1.0000    1.0000         1\n",
      "         341     1.0000    1.0000    1.0000         1\n",
      "         342     1.0000    1.0000    1.0000         3\n",
      "         343     1.0000    1.0000    1.0000         2\n",
      "         345     1.0000    1.0000    1.0000         1\n",
      "         346     1.0000    1.0000    1.0000         1\n",
      "         348     1.0000    1.0000    1.0000         2\n",
      "         349     1.0000    1.0000    1.0000         1\n",
      "         350     1.0000    1.0000    1.0000         1\n",
      "         351     1.0000    1.0000    1.0000         2\n",
      "         352     1.0000    1.0000    1.0000         1\n",
      "         353     1.0000    1.0000    1.0000         3\n",
      "         354     1.0000    1.0000    1.0000         2\n",
      "         357     1.0000    1.0000    1.0000         2\n",
      "         359     1.0000    1.0000    1.0000         2\n",
      "         362     1.0000    1.0000    1.0000         1\n",
      "         363     1.0000    1.0000    1.0000         3\n",
      "         364     1.0000    1.0000    1.0000         1\n",
      "         365     1.0000    1.0000    1.0000         1\n",
      "         366     1.0000    1.0000    1.0000         3\n",
      "         367     1.0000    1.0000    1.0000         2\n",
      "         368     1.0000    1.0000    1.0000         2\n",
      "         369     1.0000    1.0000    1.0000         1\n",
      "         370     1.0000    0.5000    0.6667         2\n",
      "         373     1.0000    1.0000    1.0000         3\n",
      "         374     1.0000    1.0000    1.0000         2\n",
      "         375     1.0000    1.0000    1.0000         2\n",
      "         376     1.0000    1.0000    1.0000         2\n",
      "         378     1.0000    1.0000    1.0000         1\n",
      "         380     1.0000    1.0000    1.0000         1\n",
      "         382     1.0000    1.0000    1.0000         2\n",
      "         384     1.0000    1.0000    1.0000         3\n",
      "         385     1.0000    1.0000    1.0000         1\n",
      "         386     1.0000    1.0000    1.0000         1\n",
      "         387     1.0000    1.0000    1.0000         2\n",
      "         389     1.0000    1.0000    1.0000         1\n",
      "         390     1.0000    1.0000    1.0000         2\n",
      "         391     1.0000    1.0000    1.0000         2\n",
      "         393     1.0000    1.0000    1.0000         1\n",
      "         395     1.0000    1.0000    1.0000         1\n",
      "         396     1.0000    1.0000    1.0000         1\n",
      "         397     1.0000    1.0000    1.0000         1\n",
      "         398     1.0000    1.0000    1.0000         2\n",
      "         400     1.0000    1.0000    1.0000         1\n",
      "         401     1.0000    1.0000    1.0000         1\n",
      "         402     1.0000    1.0000    1.0000         1\n",
      "         404     1.0000    1.0000    1.0000         1\n",
      "         405     1.0000    1.0000    1.0000         1\n",
      "         408     1.0000    1.0000    1.0000         2\n",
      "         409     1.0000    1.0000    1.0000         3\n",
      "         410     1.0000    1.0000    1.0000         1\n",
      "         411     1.0000    1.0000    1.0000         2\n",
      "         412     1.0000    1.0000    1.0000         1\n",
      "         413     1.0000    1.0000    1.0000         1\n",
      "         414     1.0000    1.0000    1.0000         1\n",
      "         415     1.0000    1.0000    1.0000         2\n",
      "         416     1.0000    1.0000    1.0000         4\n",
      "         417     1.0000    1.0000    1.0000         1\n",
      "         418     1.0000    1.0000    1.0000         2\n",
      "         420     1.0000    1.0000    1.0000         2\n",
      "         421     1.0000    1.0000    1.0000         1\n",
      "         422     1.0000    1.0000    1.0000         1\n",
      "         423     1.0000    1.0000    1.0000         2\n",
      "         424     1.0000    1.0000    1.0000         1\n",
      "         426     1.0000    1.0000    1.0000         3\n",
      "         427     1.0000    1.0000    1.0000         1\n",
      "         428     1.0000    1.0000    1.0000         1\n",
      "         429     1.0000    1.0000    1.0000         1\n",
      "         430     1.0000    1.0000    1.0000         1\n",
      "         432     1.0000    1.0000    1.0000         1\n",
      "         437     1.0000    1.0000    1.0000         1\n",
      "         439     1.0000    1.0000    1.0000         1\n",
      "         440     1.0000    1.0000    1.0000         1\n",
      "         442     0.0000    0.0000    0.0000         0\n",
      "         443     1.0000    1.0000    1.0000         1\n",
      "         444     1.0000    1.0000    1.0000         1\n",
      "         445     1.0000    1.0000    1.0000         1\n",
      "         446     1.0000    1.0000    1.0000         1\n",
      "         447     1.0000    1.0000    1.0000         2\n",
      "         448     1.0000    1.0000    1.0000         1\n",
      "         450     1.0000    1.0000    1.0000         2\n",
      "         451     1.0000    1.0000    1.0000         1\n",
      "         452     1.0000    1.0000    1.0000         1\n",
      "         453     1.0000    1.0000    1.0000         3\n",
      "         454     1.0000    1.0000    1.0000         1\n",
      "         457     1.0000    1.0000    1.0000         2\n",
      "         460     1.0000    1.0000    1.0000         3\n",
      "         461     1.0000    1.0000    1.0000         2\n",
      "         462     1.0000    1.0000    1.0000         3\n",
      "         463     1.0000    1.0000    1.0000         1\n",
      "         464     1.0000    1.0000    1.0000         2\n",
      "         465     1.0000    1.0000    1.0000         1\n",
      "         466     1.0000    1.0000    1.0000         1\n",
      "         467     1.0000    1.0000    1.0000         3\n",
      "         469     1.0000    1.0000    1.0000         1\n",
      "         470     1.0000    1.0000    1.0000         2\n",
      "         471     1.0000    1.0000    1.0000         1\n",
      "         472     1.0000    1.0000    1.0000         1\n",
      "         473     1.0000    1.0000    1.0000         1\n",
      "         475     1.0000    1.0000    1.0000         2\n",
      "         476     1.0000    1.0000    1.0000         1\n",
      "         477     1.0000    1.0000    1.0000         2\n",
      "         479     1.0000    1.0000    1.0000         1\n",
      "         480     1.0000    1.0000    1.0000         1\n",
      "         481     1.0000    1.0000    1.0000         1\n",
      "         482     1.0000    1.0000    1.0000         2\n",
      "         483     1.0000    1.0000    1.0000         2\n",
      "         484     1.0000    1.0000    1.0000         3\n",
      "         486     1.0000    1.0000    1.0000         1\n",
      "         487     1.0000    1.0000    1.0000         2\n",
      "         488     1.0000    1.0000    1.0000         2\n",
      "         490     1.0000    1.0000    1.0000         2\n",
      "\n",
      "    accuracy                         0.9932       591\n",
      "   macro avg     0.9864    0.9837    0.9846       591\n",
      "weighted avg     0.9966    0.9932    0.9944       591\n",
      "\n"
     ]
    },
    {
     "name": "stderr",
     "output_type": "stream",
     "text": [
      "/usr/local/lib/python3.11/dist-packages/sklearn/metrics/_classification.py:1565: UndefinedMetricWarning: Precision is ill-defined and being set to 0.0 in labels with no predicted samples. Use `zero_division` parameter to control this behavior.\n",
      "  _warn_prf(average, modifier, f\"{metric.capitalize()} is\", len(result))\n",
      "/usr/local/lib/python3.11/dist-packages/sklearn/metrics/_classification.py:1565: UndefinedMetricWarning: Recall is ill-defined and being set to 0.0 in labels with no true samples. Use `zero_division` parameter to control this behavior.\n",
      "  _warn_prf(average, modifier, f\"{metric.capitalize()} is\", len(result))\n",
      "/usr/local/lib/python3.11/dist-packages/sklearn/metrics/_classification.py:1565: UndefinedMetricWarning: Precision is ill-defined and being set to 0.0 in labels with no predicted samples. Use `zero_division` parameter to control this behavior.\n",
      "  _warn_prf(average, modifier, f\"{metric.capitalize()} is\", len(result))\n",
      "/usr/local/lib/python3.11/dist-packages/sklearn/metrics/_classification.py:1565: UndefinedMetricWarning: Recall is ill-defined and being set to 0.0 in labels with no true samples. Use `zero_division` parameter to control this behavior.\n",
      "  _warn_prf(average, modifier, f\"{metric.capitalize()} is\", len(result))\n",
      "/usr/local/lib/python3.11/dist-packages/sklearn/metrics/_classification.py:1565: UndefinedMetricWarning: Precision is ill-defined and being set to 0.0 in labels with no predicted samples. Use `zero_division` parameter to control this behavior.\n",
      "  _warn_prf(average, modifier, f\"{metric.capitalize()} is\", len(result))\n",
      "/usr/local/lib/python3.11/dist-packages/sklearn/metrics/_classification.py:1565: UndefinedMetricWarning: Recall is ill-defined and being set to 0.0 in labels with no true samples. Use `zero_division` parameter to control this behavior.\n",
      "  _warn_prf(average, modifier, f\"{metric.capitalize()} is\", len(result))\n"
     ]
    },
    {
     "data": {
      "image/png": "[encoded data removed]",
      "text/plain": [
       "<Figure size 1000x800 with 1 Axes>"
      ]
     },
     "metadata": {},
     "output_type": "display_data"
    }
   ],
   "source": [
    "# --- EVALUATION ---\n",
    "model.load_state_dict(torch.load('best_model.pt'))\n",
    "model.eval()\n",
    "model.to(DEVICE)\n",
    "\n",
    "preds, targets = [], []\n",
    "\n",
    "with torch.no_grad():\n",
    "    for iris, vein, labels in val_loader:\n",
    "        iris, vein = iris.to(DEVICE), vein.to(DEVICE)\n",
    "        outputs = model(iris, vein)\n",
    "        preds.extend(outputs.argmax(dim=1).cpu().numpy())\n",
    "        targets.extend(labels.cpu().numpy())\n",
    "\n",
    "# --- METRICS ---\n",
    "acc = accuracy_score(targets, preds)\n",
    "prec = precision_score(targets, preds, average='macro', zero_division=0)\n",
    "rec = recall_score(targets, preds, average='macro', zero_division=0)\n",
    "f1 = f1_score(targets, preds, average='macro', zero_division=0)\n",
    "\n",
    "print(\"\\n🔍 Evaluation Metrics\")\n",
    "print(f\"Accuracy  : {acc:.4f}\")\n",
    "print(f\"Precision : {prec:.4f}\")\n",
    "print(f\"Recall    : {rec:.4f}\")\n",
    "print(f\"F1 Score  : {f1:.4f}\")\n",
    "\n",
    "# --- CLASSIFICATION REPORT ---\n",
    "print(\"\\n📊 Classification Report:\")\n",
    "print(classification_report(targets, preds, digits=4))\n",
    "\n",
    "# --- CONFUSION MATRIX PLOT ---\n",
    "cm = confusion_matrix(targets, preds)\n",
    "plt.figure(figsize=(10, 8))\n",
    "sns.heatmap(cm, annot=True, fmt='d', cmap='Blues', cbar=False,\n",
    "            xticklabels=list(dataset.class_to_idx.keys()),\n",
    "            yticklabels=list(dataset.class_to_idx.keys()))\n",
    "plt.xlabel('Predicted')\n",
    "plt.ylabel('Actual')\n",
    "plt.title('Confusion Matrix')\n",
    "plt.xticks(rotation=45, ha='right')\n",
    "plt.tight_layout()\n",
    "plt.show()\n"
   ]
  },
  {
   "cell_type": "code",
   "execution_count": null,
   "metadata": {
    "colab": {
     "base_uri": "https://localhost:8080/",
     "height": 618
    },
    "executionInfo": {
     "elapsed": 336,
     "status": "ok",
     "timestamp": 1748985596506,
     "user": {
      "displayName": "jerrykarunya",
      "userId": "00961226722197498778"
     },
     "user_tz": -330
    },
    "id": "qeeqhe6Nqhmm",
    "outputId": "918655ed-0932-4ed2-d607-e0a91e7d348a"
   },
   "outputs": [
    {
     "name": "stderr",
     "output_type": "stream",
     "text": [
      "<ipython-input-7-cb9363141772>:6: FutureWarning: \n",
      "\n",
      "Passing `palette` without assigning `hue` is deprecated and will be removed in v0.14.0. Assign the `x` variable to `hue` and set `legend=False` for the same effect.\n",
      "\n",
      "  sns.barplot(x=metric_names, y=metrics, palette=\"viridis\")\n"
     ]
    },
    {
     "data": {
      "image/png": "[encoded data removed]",
      "text/plain": [
       "<Figure size 800x500 with 1 Axes>"
      ]
     },
     "metadata": {},
     "output_type": "display_data"
    }
   ],
   "source": [
    "# --- BAR CHART FOR EVALUATION METRICS ---\n",
    "metrics = [acc, prec, rec, f1]\n",
    "metric_names = ['Accuracy', 'Precision', 'Recall', 'F1 Score']\n",
    "\n",
    "plt.figure(figsize=(8, 5))\n",
    "sns.barplot(x=metric_names, y=metrics, palette=\"viridis\")\n",
    "plt.ylim(0, 1.0)\n",
    "plt.title(\"Evaluation Metrics\")\n",
    "for i, v in enumerate(metrics):\n",
    "    plt.text(i, v + 0.01, f\"{v:.4f}\", ha='center', fontsize=12)\n",
    "plt.ylabel(\"Score\")\n",
    "plt.tight_layout()\n",
    "plt.show()\n"
   ]
  },
  {
   "cell_type": "code",
   "execution_count": null,
   "metadata": {
    "colab": {
     "base_uri": "https://localhost:8080/",
     "height": 607
    },
    "executionInfo": {
     "elapsed": 430,
     "status": "ok",
     "timestamp": 1748986463027,
     "user": {
      "displayName": "jerrykarunya",
      "userId": "00961226722197498778"
     },
     "user_tz": -330
    },
    "id": "3Gc6o5Vut3BI",
    "outputId": "efb65d12-2c9a-4803-c152-f7d9ca217447"
   },
   "outputs": [
    {
     "data": {
      "image/png": "[encoded data removed]",
      "text/plain": [
       "<Figure size 1000x600 with 1 Axes>"
      ]
     },
     "metadata": {},
     "output_type": "display_data"
    }
   ],
   "source": [
    "import matplotlib.pyplot as plt\n",
    "\n",
    "# Step 1: Define accuracy values\n",
    "train_acc = [\n",
    "    0.0034, 0.0086, 0.0772, 0.2595, 0.4710, 0.6927, 0.8233, 0.9099, 0.9502, 0.9761,\n",
    "    0.9911, 0.9975, 0.9987, 0.9983, 1.0000, 1.0000, 1.0000, 1.0000, 1.0000, 1.0000,\n",
    "    1.0000, 1.0000, 1.0000, 1.0000\n",
    "]\n",
    "\n",
    "val_acc = [\n",
    "    0.0033, 0.0049, 0.0132, 0.1522, 0.4339, 0.4982, 0.6765, 0.7496, 0.7940, 0.8649,\n",
    "    0.8830, 0.9375, 0.9572, 0.9589, 0.9688, 0.9836, 0.9868, 0.9901, 0.9934, 0.9852,\n",
    "    0.9885, 0.9885, 0.9934, 0.9934\n",
    "]\n",
    "\n",
    "# Step 2: Plotting\n",
    "epochs = list(range(1, len(train_acc) + 1))\n",
    "\n",
    "plt.figure(figsize=(10, 6))\n",
    "plt.plot(epochs, train_acc, label=\"Train Accuracy\", color=\"blue\", linewidth=2, marker='o')  # Remove marker='o' for no dots\n",
    "plt.plot(epochs, val_acc, label=\"Validation Accuracy\", color=\"green\", linewidth=2, marker='s')  # Remove marker='s' for no dots\n",
    "\n",
    "plt.title(\"Training and Validation Accuracy Over Epochs\", fontsize=14)\n",
    "plt.xlabel(\"Epoch\", fontsize=12)\n",
    "plt.ylabel(\"Accuracy\", fontsize=12)\n",
    "plt.ylim(0, 1.05)\n",
    "plt.xticks(epochs)\n",
    "plt.grid(True)\n",
    "plt.legend()\n",
    "plt.tight_layout()\n",
    "plt.show()\n"
   ]
  }
 ],
 "metadata": {
  "colab": {
   "authorship_tag": "ABX9TyNa1NeOmJYY1zT59sEjKpWF",
   "mount_file_id": "10Pbi4dShVQq6GrcwTEhPMKDWKD4hfAD3",
   "provenance": [
    {
     "file_id": "10Pbi4dShVQq6GrcwTEhPMKDWKD4hfAD3",
     "timestamp": 1748986521495
    }
   ]
  },
  "kernelspec": {
   "display_name": "Python 3",
   "name": "python3"
  },
  "language_info": {
   "name": "python"
  }
 },
 "nbformat": 4,
 "nbformat_minor": 0
}
